{
 "cells": [
  {
   "cell_type": "code",
   "execution_count": 1,
   "metadata": {},
   "outputs": [],
   "source": [
    "%run -i 'src/SPV.py'\n",
    "from src.data_functions import *\n",
    "from src.solution_algorithms import *"
   ]
  },
  {
   "cell_type": "markdown",
   "metadata": {},
   "source": [
    "## Load Generation, Demand and Prices Data"
   ]
  },
  {
   "cell_type": "code",
   "execution_count": 2,
   "metadata": {},
   "outputs": [],
   "source": [
    "df = pd.read_csv('data/full_randomized_2017_hourly_normalized_v2.csv') #Load demand and solar generation per kW dataframe\n",
    "df2 = pd.read_csv('data/LMP_2017_data.csv') #Load wholesale prices data"
   ]
  },
  {
   "cell_type": "markdown",
   "metadata": {},
   "source": [
    "## Obtain lists, matrices and arrays from dataframes"
   ]
  },
  {
   "cell_type": "code",
   "execution_count": 3,
   "metadata": {},
   "outputs": [],
   "source": [
    "dataids = obtain_dataid_2017(df) #list of dataids of firms\n",
    "dataids_array = np.asarray(dataids) #numpy array of dataids \n",
    "validdata = len(dataids) #Total of firms\n",
    "T = len(df[df.dataid==26].use.values) #Total of time slots\n",
    "localtime_data = df[df.dataid==26].localhour #Hour data of time slots"
   ]
  },
  {
   "cell_type": "code",
   "execution_count": 4,
   "metadata": {},
   "outputs": [],
   "source": [
    "gen_kw = f_gen_per_kw(df) #Matrix of normalized solar generation: Rows are timeslots and columns are firms\n",
    "load_kw = f_load_kw(df) #Matrix of load: Rows are timeslots and columns are firms"
   ]
  },
  {
   "cell_type": "markdown",
   "metadata": {},
   "source": [
    "1 m$^2$ is 1550 in$^2$\n",
    "\n",
    "Typical size of solar panel: is 65 in for 39 in = 2535 in$^2$ = 1.6354 m$^2$.\n",
    "\n",
    "The rated power of a solar panel is typically between 250 to 350W.\n",
    "\n",
    "To convert we use: gen_per_kw by 0.3 / 1.6354 to get gen_per_m$^2$."
   ]
  },
  {
   "cell_type": "code",
   "execution_count": 5,
   "metadata": {},
   "outputs": [],
   "source": [
    "gen_per_m2 = gen_kw*0.3/1.6354"
   ]
  },
  {
   "cell_type": "code",
   "execution_count": 6,
   "metadata": {},
   "outputs": [
    {
     "name": "stdout",
     "output_type": "stream",
     "text": [
      "Cost of PV per time step: 0.004695025492240356\n"
     ]
    }
   ],
   "source": [
    "#Investment per m2 is 512.2 $/m2.\n",
    "#Using an anualized cost with discount rate r=5%, we obtain\n",
    "CostPVperM2 = 512.2\n",
    "r = 0.05\n",
    "years = 20\n",
    "annuity = CostPVperM2*r/(1-(1+r)**(-years)) #Obtain Annuity \n",
    "pi_s = annuity/T #Obtain cost per time step\n",
    "print('Cost of PV per time step: ' + str(pi_s))"
   ]
  },
  {
   "cell_type": "code",
   "execution_count": 7,
   "metadata": {},
   "outputs": [],
   "source": [
    "firms = validdata #Number of firms\n",
    "gamma = 1 #Factor of NM price\n",
    "pi_r = 0.18   #Retail Price at 18 cents per kWh.\n",
    "pi_nm = gamma*pi_r  #Net Metering Price\n",
    "a_cap_firms = f_cap_firms(gen_per_m2, load_kw) #Cap for firms to not be net producers"
   ]
  },
  {
   "cell_type": "code",
   "execution_count": 8,
   "metadata": {},
   "outputs": [],
   "source": [
    "pi_g = f_lmp_prices(df2) #Obtain wholesale market prices: Data is in $/MWh\n",
    "pi_g = pi_g/1000 # convert to $/kWh"
   ]
  },
  {
   "cell_type": "markdown",
   "metadata": {},
   "source": [
    "## Run Case 1: Limited maximum panel area"
   ]
  },
  {
   "cell_type": "code",
   "execution_count": 14,
   "metadata": {},
   "outputs": [],
   "source": [
    "a_max_firms = 0.2*a_cap_firms\n",
    "pv_changes = []\n",
    "gamma = np.linspace(0,1,21)\n",
    "#gamma = [0.9]\n",
    "\n",
    "#Run the sharing case (that is not affected by gamma)\n",
    "soluc_sharing = solve_sharing_collective(gen_per_m2, load_kw, dataids_array, a_max_firms, pi_s, pi_r) #Obtain the set of firms that invest\n",
    "sol_sharing = firms_investment_sharing(soluc_sharing, a_max_firms, firms) #Obtain the investment decision of all firms\n",
    "\n",
    "for g in gamma:\n",
    "    pi_nm = g*pi_r\n",
    "    %run -i 'src/Case_01.py'\n",
    "    pv_changes.append(aux)\n",
    "    clear_output()"
   ]
  },
  {
   "cell_type": "code",
   "execution_count": 14,
   "metadata": {},
   "outputs": [
    {
     "data": {
      "text/plain": [
       "[<matplotlib.lines.Line2D at 0xb1fdf7518>]"
      ]
     },
     "execution_count": 14,
     "metadata": {},
     "output_type": "execute_result"
    },
    {
     "data": {
      "image/png": "[encoded data removed]",
      "text/plain": [
       "<Figure size 432x288 with 1 Axes>"
      ]
     },
     "metadata": {},
     "output_type": "display_data"
    }
   ],
   "source": [
    "#Plot pv changes between standalone and sharing case\n",
    "plt.plot(gamma, pv_changes)"
   ]
  },
  {
   "cell_type": "code",
   "execution_count": null,
   "metadata": {},
   "outputs": [],
   "source": [
    "investment_standalone = solve_standalone(gen_per_m2, load_kw, dataids, a_max_firms, pi_s, pi_r, pi_nm)"
   ]
  },
  {
   "cell_type": "code",
   "execution_count": null,
   "metadata": {},
   "outputs": [],
   "source": [
    "print('\\n')\n",
    "print('Investment decisions:')\n",
    "print(investment_standalone) #Print investment decisions\n",
    "print('\\n')\n",
    "print('Percentage of investment per firm (with respect to max_cap)')\n",
    "print(1-(a_max_firms - investment_standalone)/a_max_firms) #Print percentage of investment of available max cap\n",
    "print('\\n Total Investment of PV in standalone case is '+ str(sum(investment_standalone)) + ' in m2 \\n')"
   ]
  },
  {
   "cell_type": "code",
   "execution_count": null,
   "metadata": {},
   "outputs": [],
   "source": [
    "soluc_sharing = solve_sharing_collective(gen_per_m2, load_kw, dataids_array, a_max_firms, pi_s, pi_r)\n",
    "sol_sharing = firms_investment_sharing(soluc_sharing, a_max_firms, firms)"
   ]
  },
  {
   "cell_type": "markdown",
   "metadata": {},
   "source": [
    "## Run Case 3: Effect of demand charge in wholesale market prices"
   ]
  },
  {
   "cell_type": "code",
   "execution_count": 72,
   "metadata": {},
   "outputs": [],
   "source": [
    "a_max_firms = 2*a_cap_firms\n",
    "pi_s_array = np.linspace(0.08, 0.2, 30)*pi_s"
   ]
  },
  {
   "cell_type": "code",
   "execution_count": 73,
   "metadata": {},
   "outputs": [
    {
     "data": {
      "text/plain": [
       "[<matplotlib.lines.Line2D at 0xb1faf8278>]"
      ]
     },
     "execution_count": 73,
     "metadata": {},
     "output_type": "execute_result"
    },
    {
     "data": {
      "image/png": "[encoded data removed]",
      "text/plain": [
       "<Figure size 432x288 with 1 Axes>"
      ]
     },
     "metadata": {},
     "output_type": "display_data"
    }
   ],
   "source": [
    "pi_g2 = pi_g\n",
    "\n",
    "#pi_s_array = np.asarray([0.15*pi_s])\n",
    "sol_wholesale_list_dcharge = []\n",
    "for pi_s2 in pi_s_array:\n",
    "    soluc_wholesale = solve_wholesale_aggregator_demandcharge(gen_per_m2, load_kw, a_max_firms, pi_s2, pi_g2, 0.01)\n",
    "    sol_wholesale_list_dcharge.append(np.sum(soluc_wholesale))\n",
    "    clear_output()\n",
    "levelized_cost_array = (1-(1+r)**(-years))/r * pi_s_array*T\n",
    "plt.plot(levelized_cost_array, sol_wholesale_list_dcharge)"
   ]
  },
  {
   "cell_type": "code",
   "execution_count": 74,
   "metadata": {},
   "outputs": [
    {
     "data": {
      "text/plain": [
       "[<matplotlib.lines.Line2D at 0xb1f8b49b0>]"
      ]
     },
     "execution_count": 74,
     "metadata": {},
     "output_type": "execute_result"
    },
    {
     "data": {
      "image/png": "[encoded data removed]",
      "text/plain": [
       "<Figure size 432x288 with 1 Axes>"
      ]
     },
     "metadata": {},
     "output_type": "display_data"
    }
   ],
   "source": [
    "sol_wholesale_list = []\n",
    "for pi_s2 in pi_s_array:\n",
    "    soluc_wholesale = solve_wholesale_aggregator(gen_per_m2, load_kw, a_max_firms, pi_s2, pi_g2)\n",
    "    sol_wholesale_list.append(np.sum(soluc_wholesale))\n",
    "    clear_output()\n",
    "levelized_cost_array = (1-(1+r)**(-years))/r * pi_s_array*T\n",
    "plt.plot(levelized_cost_array, sol_wholesale_list)"
   ]
  },
  {
   "cell_type": "code",
   "execution_count": 77,
   "metadata": {},
   "outputs": [
    {
     "name": "stdout",
     "output_type": "stream",
     "text": [
      "[ 40.976       43.09544828  45.21489655  47.33434483  49.4537931\n",
      "  51.57324138  53.69268966  55.81213793  57.93158621  60.05103448\n",
      "  62.17048276  64.28993103  66.40937931  68.52882759  70.64827586\n",
      "  72.76772414  74.88717241  77.00662069  79.12606897  81.24551724\n",
      "  83.36496552  85.48441379  87.60386207  89.72331034  91.84275862\n",
      "  93.9622069   96.08165517  98.20110345 100.32055172 102.44      ]\n"
     ]
    }
   ],
   "source": [
    "print(levelized_cost_array)"
   ]
  },
  {
   "cell_type": "code",
   "execution_count": 69,
   "metadata": {},
   "outputs": [
    {
     "data": {
      "text/plain": [
       "122300.40004407866"
      ]
     },
     "execution_count": 69,
     "metadata": {},
     "output_type": "execute_result"
    }
   ],
   "source": [
    "sum(a_max_firms)"
   ]
  },
  {
   "cell_type": "code",
   "execution_count": 13,
   "metadata": {},
   "outputs": [],
   "source": [
    "def wholesale_energy_costs(gen_per_m2,  load_kw, a_inv, pi_g):\n",
    "    load_cost_matrix = (load_kw.T * pi_g).T #define a matrix of size (8754, 1000) that contains the cost of purchasing electricity\n",
    "    gen_profit_matrix = (gen_per_m2.T * pi_g).T #define a matrix of size (8754, 1000) that contains the cost of selling electricity per m2\n",
    "    energy_cost = np.sum(load_cost_matrix)/T - np.sum(a_inv*np.sum(gen_profit_matrix,axis=0))/T\n",
    "    return energy_cost"
   ]
  },
  {
   "cell_type": "code",
   "execution_count": 70,
   "metadata": {},
   "outputs": [],
   "source": [
    "def wholesale_demand_charge_costs(gen_per_m2, load_kw, a_inv, demand_charge):\n",
    "    #obtain timeseries for each month\n",
    "    load_jan = load_kw[0:24*31, :]\n",
    "    gen_jan = gen_per_m2[0:24*31, :]\n",
    "    load_feb =  load_kw[24*31:24*59, :]\n",
    "    gen_feb = gen_per_m2[24*31:24*59, :]\n",
    "    load_mar = load_kw[24*59:24*90, :]\n",
    "    gen_mar = gen_per_m2[24*59:24*90, :]\n",
    "    load_apr = load_kw[24*90:24*120 , :]\n",
    "    gen_apr = gen_per_m2[24*90:24*120 , :]\n",
    "    load_may = load_kw[24*120:24*151 , :]\n",
    "    gen_may = gen_per_m2[24*120:24*151 , :]\n",
    "    load_jun = load_kw[24*151:24*181 , :]\n",
    "    gen_jun = gen_per_m2[24*151:24*181 , :]\n",
    "    load_jul = load_kw[24*181:24*212 , :]\n",
    "    gen_jul = gen_per_m2[24*181:24*212 , :]\n",
    "    load_aug = load_kw[24*212:24*243 , :]\n",
    "    gen_aug = gen_per_m2[24*212:24*243 , :]\n",
    "    load_sep = load_kw[24*243:24*273 , :]\n",
    "    gen_sep = gen_per_m2[24*243:24*273 , :]\n",
    "    load_oct = load_kw[24*273:24*304 , :]\n",
    "    gen_oct = gen_per_m2[24*273:24*304 , :]\n",
    "    load_nov = load_kw[24*304:24*334 , :]\n",
    "    gen_nov = gen_per_m2[24*304:24*334 , :]\n",
    "    load_dec = load_kw[24*334: , :]\n",
    "    gen_dec = gen_per_m2[24*334: , :]\n",
    "    \n",
    "    d_charge = demand_charge/12  #average monthly payment \n",
    "    demand_costs = []\n",
    "    cost_jan = d_charge* LA.norm(np.sum(load_jan,axis=1) - np.matmul(gen_jan,a_inv), np.inf)\n",
    "    cost_feb = d_charge* LA.norm(np.sum(load_feb,axis=1) - np.matmul(gen_feb,a_inv), np.inf)\n",
    "    cost_mar = d_charge* LA.norm(np.sum(load_mar,axis=1) - np.matmul(gen_mar,a_inv), np.inf)\n",
    "    cost_apr = d_charge* LA.norm(np.sum(load_apr,axis=1) - np.matmul(gen_apr,a_inv), np.inf)\n",
    "    cost_may = d_charge* LA.norm(np.sum(load_may,axis=1) - np.matmul(gen_may,a_inv), np.inf)\n",
    "    cost_jun = d_charge* LA.norm(np.sum(load_jun,axis=1) - np.matmul(gen_jun,a_inv), np.inf)\n",
    "    cost_jul = d_charge* LA.norm(np.sum(load_jul,axis=1) - np.matmul(gen_jul,a_inv), np.inf)\n",
    "    cost_aug = d_charge* LA.norm(np.sum(load_aug,axis=1) - np.matmul(gen_aug,a_inv), np.inf)\n",
    "    cost_sep = d_charge* LA.norm(np.sum(load_sep,axis=1) - np.matmul(gen_sep,a_inv), np.inf)\n",
    "    cost_oct = d_charge* LA.norm(np.sum(load_oct,axis=1) - np.matmul(gen_oct,a_inv), np.inf)\n",
    "    cost_nov = d_charge* LA.norm(np.sum(load_nov,axis=1) - np.matmul(gen_nov,a_inv), np.inf)\n",
    "    cost_dec = d_charge* LA.norm(np.sum(load_dec,axis=1) - np.matmul(gen_dec,a_inv), np.inf)\n",
    "    demand_costs.append(cost_jan)\n",
    "    demand_costs.append(cost_feb)\n",
    "    demand_costs.append(cost_mar)\n",
    "    demand_costs.append(cost_apr)\n",
    "    demand_costs.append(cost_may)\n",
    "    demand_costs.append(cost_jun)\n",
    "    demand_costs.append(cost_jul)\n",
    "    demand_costs.append(cost_aug)\n",
    "    demand_costs.append(cost_sep)\n",
    "    demand_costs.append(cost_oct)\n",
    "    demand_costs.append(cost_nov)\n",
    "    demand_costs.append(cost_dec)\n",
    "    return demand_costs"
   ]
  },
  {
   "cell_type": "code",
   "execution_count": 62,
   "metadata": {},
   "outputs": [
    {
     "name": "stdout",
     "output_type": "stream",
     "text": [
      "29.46261390848926\n",
      "46.49627836971733\n",
      "15.294402282623977\n"
     ]
    }
   ],
   "source": [
    "e_cost = wholesale_energy_costs(gen_per_m2,  load_kw, soluc_wholesale, pi_g)\n",
    "print(e_cost)\n",
    "e_cost = wholesale_energy_costs(gen_per_m2,  load_kw, 0, pi_g)\n",
    "print(e_cost)\n",
    "print(0.15*pi_s*np.sum(soluc_wholesale))"
   ]
  },
  {
   "cell_type": "code",
   "execution_count": 71,
   "metadata": {},
   "outputs": [
    {
     "name": "stdout",
     "output_type": "stream",
     "text": [
      "26.35079425919462\n",
      "28.05626310380096\n"
     ]
    }
   ],
   "source": [
    "d_cost = wholesale_demand_charge_costs(gen_per_m2, load_kw, soluc_wholesale, 0.01)\n",
    "print(np.sum(d_cost))\n",
    "zero_sol = np.zeros(validdata)\n",
    "d_cost = wholesale_demand_charge_costs(gen_per_m2, load_kw, zero_sol, 0.01)\n",
    "print(np.sum(d_cost))"
   ]
  },
  {
   "cell_type": "code",
   "execution_count": 31,
   "metadata": {},
   "outputs": [],
   "source": [
    "gen_jan = gen_per_m2[0:24*31, :]\n",
    "load_jan = load_kw[0:24*31, :]"
   ]
  },
  {
   "cell_type": "code",
   "execution_count": 39,
   "metadata": {},
   "outputs": [
    {
     "name": "stdout",
     "output_type": "stream",
     "text": [
      "(1000,)\n"
     ]
    }
   ],
   "source": [
    "print(np.zeros(1000).shape)"
   ]
  },
  {
   "cell_type": "code",
   "execution_count": null,
   "metadata": {},
   "outputs": [],
   "source": [
    "avg_profit_nopv = utility_profit_no_investment(load_kw, pi_r)"
   ]
  },
  {
   "cell_type": "code",
   "execution_count": null,
   "metadata": {},
   "outputs": [],
   "source": [
    "avg_profit_standalone = utility_profit_standalone(gen_per_m2, load_kw, investment_standalone, pi_r, pi_nm)"
   ]
  },
  {
   "cell_type": "code",
   "execution_count": null,
   "metadata": {},
   "outputs": [],
   "source": [
    "avg_profit_sharing = utility_profit_sharing(gen_per_m2, load_kw, sol_sharing, pi_r)"
   ]
  },
  {
   "cell_type": "code",
   "execution_count": 39,
   "metadata": {},
   "outputs": [
    {
     "name": "stdout",
     "output_type": "stream",
     "text": [
      "[0.0004695  0.00051645 0.0005634  0.00061035 0.0006573  0.00070425\n",
      " 0.0007512  0.00079815 0.0008451  0.00089205 0.00093901]\n"
     ]
    }
   ],
   "source": [
    "pi_s_array = np.linspace(0.1, 0.2, 11)*pi_s\n",
    "print(pi_s_array)"
   ]
  },
  {
   "cell_type": "code",
   "execution_count": 48,
   "metadata": {},
   "outputs": [
    {
     "data": {
      "text/plain": [
       "8754"
      ]
     },
     "execution_count": 48,
     "metadata": {},
     "output_type": "execute_result"
    }
   ],
   "source": [
    "np.sum(load_kw, axis=1).size"
   ]
  },
  {
   "cell_type": "code",
   "execution_count": 55,
   "metadata": {},
   "outputs": [],
   "source": [
    "aux = a_max_firms*gen_per_m2"
   ]
  },
  {
   "cell_type": "code",
   "execution_count": 59,
   "metadata": {},
   "outputs": [
    {
     "name": "stdout",
     "output_type": "stream",
     "text": [
      "1.1510310999052593\n",
      "0.03198223676164852\n",
      "1.1510310999052593\n"
     ]
    }
   ],
   "source": [
    "print(aux[10,1])\n",
    "print(gen_per_m2[10,1])\n",
    "print(a_max_firms[1]*gen_per_m2[10,1])"
   ]
  },
  {
   "cell_type": "code",
   "execution_count": null,
   "metadata": {},
   "outputs": [],
   "source": [
    "df3 = df2.groupby(['OPR_HR']).mean()\n",
    "print(df3)"
   ]
  },
  {
   "cell_type": "code",
   "execution_count": null,
   "metadata": {},
   "outputs": [],
   "source": [
    "df4 = df2.mean()"
   ]
  },
  {
   "cell_type": "code",
   "execution_count": null,
   "metadata": {},
   "outputs": [],
   "source": [
    "print(df4)"
   ]
  },
  {
   "cell_type": "code",
   "execution_count": 69,
   "metadata": {},
   "outputs": [
    {
     "name": "stdout",
     "output_type": "stream",
     "text": [
      "[[ 5]\n",
      " [11]]\n",
      "[[ 5]\n",
      " [11]]\n"
     ]
    }
   ],
   "source": [
    "A = np.array([[1,2],[3,4]])\n",
    "b = np.array([[1,2]])\n",
    "sol1 = np.dot(A,b.T)\n",
    "sol2 = np.matmul(A,b.T)\n",
    "print(sol1)\n",
    "print(sol2)"
   ]
  },
  {
   "cell_type": "code",
   "execution_count": 64,
   "metadata": {},
   "outputs": [
    {
     "data": {
      "text/plain": [
       "90"
      ]
     },
     "execution_count": 64,
     "metadata": {},
     "output_type": "execute_result"
    }
   ],
   "source": [
    "31+28+31"
   ]
  },
  {
   "cell_type": "code",
   "execution_count": 84,
   "metadata": {},
   "outputs": [
    {
     "data": {
      "text/plain": [
       "8016    2017-12-01 00:00:00\n",
       "8017    2017-12-01 01:00:00\n",
       "8018    2017-12-01 02:00:00\n",
       "8019    2017-12-01 03:00:00\n",
       "8020    2017-12-01 04:00:00\n",
       "8021    2017-12-01 05:00:00\n",
       "8022    2017-12-01 06:00:00\n",
       "8023    2017-12-01 07:00:00\n",
       "8024    2017-12-01 08:00:00\n",
       "8025    2017-12-01 09:00:00\n",
       "8026    2017-12-01 10:00:00\n",
       "8027    2017-12-01 11:00:00\n",
       "8028    2017-12-01 12:00:00\n",
       "8029    2017-12-01 13:00:00\n",
       "8030    2017-12-01 14:00:00\n",
       "8031    2017-12-01 15:00:00\n",
       "8032    2017-12-01 16:00:00\n",
       "8033    2017-12-01 17:00:00\n",
       "8034    2017-12-01 18:00:00\n",
       "8035    2017-12-01 19:00:00\n",
       "8036    2017-12-01 20:00:00\n",
       "8037    2017-12-01 21:00:00\n",
       "8038    2017-12-01 22:00:00\n",
       "8039    2017-12-01 23:00:00\n",
       "8040    2017-12-02 00:00:00\n",
       "8041    2017-12-02 01:00:00\n",
       "8042    2017-12-02 02:00:00\n",
       "8043    2017-12-02 03:00:00\n",
       "8044    2017-12-02 04:00:00\n",
       "8045    2017-12-02 05:00:00\n",
       "               ...         \n",
       "8724    2017-12-30 12:00:00\n",
       "8725    2017-12-30 13:00:00\n",
       "8726    2017-12-30 14:00:00\n",
       "8727    2017-12-30 15:00:00\n",
       "8728    2017-12-30 16:00:00\n",
       "8729    2017-12-30 17:00:00\n",
       "8730    2017-12-30 18:00:00\n",
       "8731    2017-12-30 19:00:00\n",
       "8732    2017-12-30 20:00:00\n",
       "8733    2017-12-30 21:00:00\n",
       "8734    2017-12-30 22:00:00\n",
       "8735    2017-12-30 23:00:00\n",
       "8736    2017-12-31 00:00:00\n",
       "8737    2017-12-31 01:00:00\n",
       "8738    2017-12-31 02:00:00\n",
       "8739    2017-12-31 03:00:00\n",
       "8740    2017-12-31 04:00:00\n",
       "8741    2017-12-31 05:00:00\n",
       "8742    2017-12-31 06:00:00\n",
       "8743    2017-12-31 07:00:00\n",
       "8744    2017-12-31 08:00:00\n",
       "8745    2017-12-31 09:00:00\n",
       "8746    2017-12-31 10:00:00\n",
       "8747    2017-12-31 11:00:00\n",
       "8748    2017-12-31 12:00:00\n",
       "8749    2017-12-31 13:00:00\n",
       "8750    2017-12-31 14:00:00\n",
       "8751    2017-12-31 15:00:00\n",
       "8752    2017-12-31 16:00:00\n",
       "8753    2017-12-31 17:00:00\n",
       "Name: localhour, Length: 738, dtype: object"
      ]
     },
     "execution_count": 84,
     "metadata": {},
     "output_type": "execute_result"
    }
   ],
   "source": [
    "localtime_data[24*334:]"
   ]
  },
  {
   "cell_type": "code",
   "execution_count": 53,
   "metadata": {},
   "outputs": [],
   "source": [
    "load_cost_matrix = (load_kw.T * pi_g).T"
   ]
  },
  {
   "cell_type": "code",
   "execution_count": 56,
   "metadata": {},
   "outputs": [],
   "source": [
    "load_cost_january = load_cost_matrix[0:24*31-1, :]"
   ]
  },
  {
   "cell_type": "code",
   "execution_count": 58,
   "metadata": {},
   "outputs": [
    {
     "data": {
      "text/plain": [
       "(743, 1000)"
      ]
     },
     "execution_count": 58,
     "metadata": {},
     "output_type": "execute_result"
    }
   ],
   "source": [
    "load_cost_january.shape"
   ]
  },
  {
   "cell_type": "code",
   "execution_count": 86,
   "metadata": {},
   "outputs": [
    {
     "data": {
      "text/plain": [
       "4"
      ]
     },
     "execution_count": 86,
     "metadata": {},
     "output_type": "execute_result"
    }
   ],
   "source": [
    "np.max([1,2,4])"
   ]
  },
  {
   "cell_type": "code",
   "execution_count": null,
   "metadata": {},
   "outputs": [],
   "source": []
  }
 ],
 "metadata": {
  "kernelspec": {
   "display_name": "Python 3",
   "language": "python",
   "name": "python3"
  },
  "language_info": {
   "codemirror_mode": {
    "name": "ipython",
    "version": 3
   },
   "file_extension": ".py",
   "mimetype": "text/x-python",
   "name": "python",
   "nbconvert_exporter": "python",
   "pygments_lexer": "ipython3",
   "version": "3.6.5"
  }
 },
 "nbformat": 4,
 "nbformat_minor": 2
}
