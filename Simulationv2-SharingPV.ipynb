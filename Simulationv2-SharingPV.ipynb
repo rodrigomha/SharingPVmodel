{
 "cells": [
  {
   "cell_type": "markdown",
   "metadata": {},
   "source": [
    "## Requirements:\n",
    "1) Use a conda distribution with numpy, scipy, matplotlib and pandas. If not, install with pip. \n",
    "\n",
    "2) Install cvxpy using: \n",
    "\n",
    "    pip install cvxpy\n",
    "    \n",
    "3) You can test the installation with nose:\n",
    "    \n",
    "    pip install nose\n",
    "    \n",
    "    nosetests cvxpy"
   ]
  },
  {
   "cell_type": "code",
   "execution_count": 1,
   "metadata": {},
   "outputs": [],
   "source": [
    "%run -i 'src/SPV.py'\n",
    "from src.data_functions import *\n",
    "from src.solution_algorithms import *"
   ]
  },
  {
   "cell_type": "markdown",
   "metadata": {},
   "source": [
    "## Load Generation, Demand and Prices Data\n",
    "Download the csv files from:\n",
    "\n",
    "https://www.dropbox.com/s/o0qcyalnnhbeqsu/full_randomized_2017_hourly_normalized_v2.csv?dl=0\n",
    "\n",
    "https://www.dropbox.com/s/1qkkg6s4yndnohm/LMP_2017_data.csv?dl=0\n",
    "\n",
    "Add the csv files to data folder"
   ]
  },
  {
   "cell_type": "code",
   "execution_count": 2,
   "metadata": {},
   "outputs": [],
   "source": [
    "df = pd.read_csv('data/full_randomized_2017_hourly_normalized_v2.csv') #Load demand and solar generation per kW dataframe\n",
    "df2 = pd.read_csv('data/LMP_2017_data.csv') #Load wholesale prices data for CAISO\n",
    "df3 = pd.read_csv('data/LMP_2017_hourly_ERCOT.csv') #Load wholesale prices data for ERCOT"
   ]
  },
  {
   "cell_type": "markdown",
   "metadata": {},
   "source": [
    "## Obtain lists, matrices and arrays from dataframes"
   ]
  },
  {
   "cell_type": "code",
   "execution_count": 4,
   "metadata": {},
   "outputs": [],
   "source": [
    "dataids = obtain_dataid_2017(df) #list of dataids of firms\n",
    "dataids_array = np.asarray(dataids) #numpy array of dataids \n",
    "validdata = len(dataids) #Total of firms\n",
    "T = len(df[df.dataid==26].use.values) #Total of time slots\n",
    "localtime_data = df[df.dataid==26].localhour #Hour data of time slots"
   ]
  },
  {
   "cell_type": "code",
   "execution_count": 7,
   "metadata": {},
   "outputs": [],
   "source": [
    "gen_kw = f_gen_per_kw(df) #Matrix of normalized solar generation: Rows are timeslots and columns are firms\n",
    "load_kw = f_load_kw(df) #Matrix of load: Rows are timeslots and columns are firms"
   ]
  },
  {
   "cell_type": "markdown",
   "metadata": {},
   "source": [
    "1 m$^2$ is 1550 in$^2$\n",
    "\n",
    "Typical size of solar panel: is 65 in for 39 in = 2535 in$^2$ = 1.6354 m$^2$.\n",
    "\n",
    "The rated power of a solar panel is typically between 250 to 350W.\n",
    "\n",
    "To convert we use: gen_per_kw by 0.3 / 1.6354 to get gen_per_m$^2$."
   ]
  },
  {
   "cell_type": "code",
   "execution_count": 8,
   "metadata": {},
   "outputs": [],
   "source": [
    "gen_per_m2 = gen_kw*0.3/1.6354"
   ]
  },
  {
   "cell_type": "code",
   "execution_count": 9,
   "metadata": {},
   "outputs": [
    {
     "name": "stdout",
     "output_type": "stream",
     "text": [
      "Cost of PV per time step: 0.004695025492240356 in $/m2\n"
     ]
    }
   ],
   "source": [
    "#Investment per m2 is 512.2 $/m2.\n",
    "#Using an anualized cost with discount rate r=5%, we obtain\n",
    "CostPVperM2 = 512.2\n",
    "r = 0.05\n",
    "years = 20\n",
    "annuity = CostPVperM2*r/(1-(1+r)**(-years)) #Obtain Annuity \n",
    "pi_s = annuity/T #Obtain cost per time step\n",
    "print('Cost of PV per time step: ' + str(pi_s) + ' in $/m2')"
   ]
  },
  {
   "cell_type": "code",
   "execution_count": 10,
   "metadata": {},
   "outputs": [],
   "source": [
    "firms = validdata #Number of firms\n",
    "gamma = 1 #Factor of NM price\n",
    "pi_r = 0.18   #Retail Price at 18 cents per kWh.\n",
    "pi_nm = gamma*pi_r  #Net Metering Price\n",
    "a_cap_firms = f_cap_firms(gen_per_m2, load_kw) #Cap for firms to not be net producers"
   ]
  },
  {
   "cell_type": "code",
   "execution_count": 11,
   "metadata": {},
   "outputs": [],
   "source": [
    "pi_g = f_lmp_prices(df2) #Obtain wholesale market prices for CAISO: Data is in $/MWh\n",
    "pi_g = pi_g/1000 # convert to $/kWh\n",
    "pi_g_ercot = df3.hb_busavg.values #Obtain wholesale market prices for ERCOT: Data is in $/MWh\n",
    "pi_g_ercot = pi_g_ercot/1000 # convert to $/kWh"
   ]
  },
  {
   "cell_type": "code",
   "execution_count": 12,
   "metadata": {},
   "outputs": [
    {
     "name": "stdout",
     "output_type": "stream",
     "text": [
      "0.03311974685286726\n",
      "0.024139201418840985\n"
     ]
    }
   ],
   "source": [
    "print(np.mean(pi_g))\n",
    "print(np.mean(pi_g_ercot))"
   ]
  },
  {
   "cell_type": "markdown",
   "metadata": {},
   "source": [
    "## Run Case 1: Limited maximum panel area"
   ]
  },
  {
   "cell_type": "code",
   "execution_count": 9,
   "metadata": {},
   "outputs": [
    {
     "name": "stdout",
     "output_type": "stream",
     "text": [
      "Solving firm 111 (of 1000) with dataid 7741\n"
     ]
    },
    {
     "ename": "KeyboardInterrupt",
     "evalue": "",
     "output_type": "error",
     "traceback": [
      "\u001b[0;31m---------------------------------------------------------------------------\u001b[0m",
      "\u001b[0;31mKeyboardInterrupt\u001b[0m                         Traceback (most recent call last)",
      "\u001b[0;32m~/Github_Projects/SharingPV/src/Case_01.py\u001b[0m in \u001b[0;36m<module>\u001b[0;34m()\u001b[0m\n\u001b[1;32m      1\u001b[0m \u001b[0;31m## This script run the standalone model (that depends on gamma) and compare it with the sharing solution\u001b[0m\u001b[0;34m\u001b[0m\u001b[0;34m\u001b[0m\u001b[0m\n\u001b[1;32m      2\u001b[0m \u001b[0;34m\u001b[0m\u001b[0m\n\u001b[0;32m----> 3\u001b[0;31m \u001b[0minvestment_standalone\u001b[0m \u001b[0;34m=\u001b[0m \u001b[0msolve_standalone\u001b[0m\u001b[0;34m(\u001b[0m\u001b[0mgen_per_m2\u001b[0m\u001b[0;34m,\u001b[0m \u001b[0mload_kw\u001b[0m\u001b[0;34m,\u001b[0m \u001b[0mdataids\u001b[0m\u001b[0;34m,\u001b[0m \u001b[0ma_max_firms\u001b[0m\u001b[0;34m,\u001b[0m \u001b[0mpi_s\u001b[0m\u001b[0;34m,\u001b[0m \u001b[0mpi_r\u001b[0m\u001b[0;34m,\u001b[0m \u001b[0mpi_nm\u001b[0m\u001b[0;34m)\u001b[0m\u001b[0;34m\u001b[0m\u001b[0m\n\u001b[0m\u001b[1;32m      4\u001b[0m \u001b[0maux\u001b[0m \u001b[0;34m=\u001b[0m \u001b[0;34m(\u001b[0m\u001b[0mnp\u001b[0m\u001b[0;34m.\u001b[0m\u001b[0msum\u001b[0m\u001b[0;34m(\u001b[0m\u001b[0msol_sharing\u001b[0m\u001b[0;34m)\u001b[0m \u001b[0;34m-\u001b[0m \u001b[0mnp\u001b[0m\u001b[0;34m.\u001b[0m\u001b[0msum\u001b[0m\u001b[0;34m(\u001b[0m\u001b[0minvestment_standalone\u001b[0m\u001b[0;34m)\u001b[0m\u001b[0;34m)\u001b[0m\u001b[0;34m/\u001b[0m\u001b[0mnp\u001b[0m\u001b[0;34m.\u001b[0m\u001b[0msum\u001b[0m\u001b[0;34m(\u001b[0m\u001b[0minvestment_standalone\u001b[0m\u001b[0;34m)\u001b[0m\u001b[0;34m\u001b[0m\u001b[0m\n",
      "\u001b[0;32m~/Github_Projects/SharingPV/src/solution_algorithms.py\u001b[0m in \u001b[0;36msolve_standalone\u001b[0;34m(gen_per_m2, load_kw, valid_index, a_max_firms, pi_s, pi_r, pi_nm)\u001b[0m\n\u001b[1;32m     15\u001b[0m         \u001b[0ma\u001b[0m \u001b[0;34m=\u001b[0m \u001b[0mnp\u001b[0m\u001b[0;34m.\u001b[0m\u001b[0mlinspace\u001b[0m\u001b[0;34m(\u001b[0m\u001b[0;36m0\u001b[0m\u001b[0;34m,\u001b[0m\u001b[0ma_max_firms\u001b[0m\u001b[0;34m[\u001b[0m\u001b[0mi\u001b[0m\u001b[0;34m]\u001b[0m\u001b[0;34m,\u001b[0m \u001b[0mnum_points\u001b[0m\u001b[0;34m)\u001b[0m \u001b[0;31m#Create a vector between 0 and a_max.\u001b[0m\u001b[0;34m\u001b[0m\u001b[0m\n\u001b[1;32m     16\u001b[0m         \u001b[0;32mfor\u001b[0m \u001b[0mk\u001b[0m \u001b[0;32min\u001b[0m \u001b[0mrange\u001b[0m\u001b[0;34m(\u001b[0m\u001b[0mlen\u001b[0m\u001b[0;34m(\u001b[0m\u001b[0ma\u001b[0m\u001b[0;34m)\u001b[0m\u001b[0;34m)\u001b[0m\u001b[0;34m:\u001b[0m\u001b[0;34m\u001b[0m\u001b[0m\n\u001b[0;32m---> 17\u001b[0;31m             \u001b[0mnet_load\u001b[0m \u001b[0;34m=\u001b[0m \u001b[0mload_kw\u001b[0m\u001b[0;34m[\u001b[0m\u001b[0;34m:\u001b[0m\u001b[0;34m,\u001b[0m\u001b[0mi\u001b[0m\u001b[0;34m]\u001b[0m \u001b[0;34m-\u001b[0m \u001b[0mgen_per_m2\u001b[0m\u001b[0;34m[\u001b[0m\u001b[0;34m:\u001b[0m\u001b[0;34m,\u001b[0m\u001b[0mi\u001b[0m\u001b[0;34m]\u001b[0m\u001b[0;34m*\u001b[0m\u001b[0ma\u001b[0m\u001b[0;34m[\u001b[0m\u001b[0mk\u001b[0m\u001b[0;34m]\u001b[0m \u001b[0;31m#Compute net load for investment a[k]\u001b[0m\u001b[0;34m\u001b[0m\u001b[0m\n\u001b[0m\u001b[1;32m     18\u001b[0m             \u001b[0mnet_gen\u001b[0m \u001b[0;34m=\u001b[0m \u001b[0;34m-\u001b[0m\u001b[0mnet_load\u001b[0m\u001b[0;34m\u001b[0m\u001b[0m\n\u001b[1;32m     19\u001b[0m             \u001b[0mnet_load\u001b[0m\u001b[0;34m[\u001b[0m\u001b[0mnet_load\u001b[0m\u001b[0;34m<=\u001b[0m\u001b[0;36m0\u001b[0m\u001b[0;34m]\u001b[0m \u001b[0;34m=\u001b[0m \u001b[0;36m0\u001b[0m \u001b[0;31m#Set to zero if the net load is negative (gen)\u001b[0m\u001b[0;34m\u001b[0m\u001b[0m\n",
      "\u001b[0;31mKeyboardInterrupt\u001b[0m: "
     ]
    },
    {
     "ename": "NameError",
     "evalue": "name 'aux' is not defined",
     "output_type": "error",
     "traceback": [
      "\u001b[0;31m---------------------------------------------------------------------------\u001b[0m",
      "\u001b[0;31mNameError\u001b[0m                                 Traceback (most recent call last)",
      "\u001b[0;32m~/Github_Projects/SharingPV/src/Case_01.py\u001b[0m in \u001b[0;36m<module>\u001b[0;34m()\u001b[0m\n\u001b[1;32m     12\u001b[0m     \u001b[0mpi_nm\u001b[0m \u001b[0;34m=\u001b[0m \u001b[0mg\u001b[0m\u001b[0;34m*\u001b[0m\u001b[0mpi_r\u001b[0m\u001b[0;34m\u001b[0m\u001b[0m\n\u001b[1;32m     13\u001b[0m     \u001b[0mget_ipython\u001b[0m\u001b[0;34m(\u001b[0m\u001b[0;34m)\u001b[0m\u001b[0;34m.\u001b[0m\u001b[0mrun_line_magic\u001b[0m\u001b[0;34m(\u001b[0m\u001b[0;34m'run'\u001b[0m\u001b[0;34m,\u001b[0m \u001b[0;34m\"-i 'src/Case_01.py'\"\u001b[0m\u001b[0;34m)\u001b[0m\u001b[0;34m\u001b[0m\u001b[0m\n\u001b[0;32m---> 14\u001b[0;31m     \u001b[0mpv_changes\u001b[0m\u001b[0;34m.\u001b[0m\u001b[0mappend\u001b[0m\u001b[0;34m(\u001b[0m\u001b[0maux\u001b[0m\u001b[0;34m)\u001b[0m\u001b[0;34m\u001b[0m\u001b[0m\n\u001b[0m\u001b[1;32m     15\u001b[0m     \u001b[0mclear_output\u001b[0m\u001b[0;34m(\u001b[0m\u001b[0;34m)\u001b[0m\u001b[0;34m\u001b[0m\u001b[0m\n",
      "\u001b[0;31mNameError\u001b[0m: name 'aux' is not defined"
     ]
    }
   ],
   "source": [
    "a_max_firms = 0.2*a_cap_firms\n",
    "pv_changes = []\n",
    "#gamma = np.linspace(0,1,21)\n",
    "gamma = [0.9]\n",
    "\n",
    "#Run the sharing case (that is not affected by gamma)\n",
    "soluc_sharing = solve_sharing_collective(gen_per_m2, load_kw, dataids_array, a_max_firms, pi_s, pi_r) #Obtain the set of firms that invest\n",
    "sol_sharing = firms_investment_sharing(soluc_sharing, a_max_firms, firms) #Obtain the investment decision of all firms\n",
    "clear_output() #Comment this line to check the intermediate steps of the algorithm\n",
    "\n",
    "for g in gamma:\n",
    "    pi_nm = g*pi_r\n",
    "    %run -i 'src/Case_01.py'\n",
    "    pv_changes.append(aux)\n",
    "    clear_output()"
   ]
  },
  {
   "cell_type": "code",
   "execution_count": null,
   "metadata": {},
   "outputs": [],
   "source": [
    "#Plot pv changes between standalone and sharing case\n",
    "plt.plot(gamma, pv_changes)"
   ]
  },
  {
   "cell_type": "code",
   "execution_count": null,
   "metadata": {},
   "outputs": [],
   "source": [
    "# pi_nm = 0.9*pi_r\n",
    "# investment_standalone = solve_standalone(gen_per_m2, load_kw, dataids, a_max_firms, pi_s, pi_r, pi_nm) #Solve a particular case you are interested"
   ]
  },
  {
   "cell_type": "code",
   "execution_count": null,
   "metadata": {},
   "outputs": [],
   "source": [
    "print('\\n')\n",
    "print('Investment decisions:')\n",
    "print(investment_standalone) #Print investment decisions\n",
    "print('\\n')\n",
    "print('Percentage of investment per firm (with respect to max_cap)')\n",
    "print(1-(a_max_firms - investment_standalone)/a_max_firms) #Print percentage of investment of available max cap\n",
    "print('\\n Total Investment of PV in standalone case is '+ str(sum(investment_standalone)) + ' in m2 \\n')"
   ]
  },
  {
   "cell_type": "markdown",
   "metadata": {},
   "source": [
    "## Run Case 2: Effect of annual cap"
   ]
  },
  {
   "cell_type": "code",
   "execution_count": null,
   "metadata": {},
   "outputs": [],
   "source": [
    "a_max_firms = 1.5*a_cap_firms\n",
    "#gamma = np.linspace(0,1,21)\n",
    "gamma = [0.9]"
   ]
  },
  {
   "cell_type": "code",
   "execution_count": null,
   "metadata": {},
   "outputs": [],
   "source": [
    "## Run Sharing model\n",
    "soluc_sharing = solve_sharing_collective(gen_per_m2, load_kw, dataids_array, a_max_firms, pi_s, pi_r) #Obtain the set of firms that invest\n",
    "sol_sharing = firms_investment_sharing(soluc_sharing, a_max_firms, firms) #Obtain the investment decision of all firms\n",
    "clear_output()"
   ]
  },
  {
   "cell_type": "code",
   "execution_count": null,
   "metadata": {},
   "outputs": [],
   "source": [
    "# Run standalone models for each gamma\n",
    "for g in gamma:\n",
    "    pi_nm = g*pi_r\n",
    "    investment_standalone = solve_standalone(gen_per_m2, load_kw, dataids, a_cap_firms, pi_s, pi_r, pi_nm)\n",
    "    clear_output()"
   ]
  },
  {
   "cell_type": "code",
   "execution_count": null,
   "metadata": {},
   "outputs": [],
   "source": [
    "print(np.sum(sol_sharing)) #Print total PV investment in Sharing Model\n",
    "print(np.sum(investment_standalone)) #Print total PV investment in Standalone Model\n",
    "print((-np.sum(investment_standalone)+np.sum(sol_sharing))/np.sum(sol_sharing) ) #Print increase (or decrease) of PV investment between models"
   ]
  },
  {
   "cell_type": "code",
   "execution_count": null,
   "metadata": {},
   "outputs": [],
   "source": [
    "total_gen_per_m2 = np.sum(gen_per_m2, axis=0) #Obtain sum of gen per m2, per firm\n",
    "sorted_dataids_maxgen = np.argsort(-total_gen_per_m2) #Sort firms from high total irradiance to low irradiance\n",
    "#print(sol_sharing[sorted_dataids_maxgen])\n",
    "#print('/n')\n",
    "#print(investment_standalone[sorted_dataids_maxgen])\n",
    "sharing_cumsum = np.cumsum(sol_sharing[sorted_dataids_maxgen]) #Compute cumulative sum of PV investment for sorted firms in sharing model\n",
    "standalone_cumsum = np.cumsum(investment_standalone[sorted_dataids_maxgen]) #Compute cumuliative sum of PV investment for sorted firms in standalone model"
   ]
  },
  {
   "cell_type": "code",
   "execution_count": null,
   "metadata": {},
   "outputs": [],
   "source": [
    "plt.plot(sharing_cumsum)"
   ]
  },
  {
   "cell_type": "code",
   "execution_count": null,
   "metadata": {},
   "outputs": [],
   "source": [
    "plt.plot(standalone_cumsum)"
   ]
  },
  {
   "cell_type": "code",
   "execution_count": null,
   "metadata": {},
   "outputs": [],
   "source": [
    "# Save data if you are interested to plot in other software\n",
    "np.savetxt(\"sharing_cumsum.csv\", sharing_cumsum, delimiter=\",\")\n",
    "np.savetxt(\"standalone_cumsum.csv\", standalone_cumsum, delimiter=\",\")"
   ]
  },
  {
   "cell_type": "markdown",
   "metadata": {},
   "source": [
    "## Run Case 3: Effect of demand charge in wholesale market prices"
   ]
  },
  {
   "cell_type": "code",
   "execution_count": 15,
   "metadata": {},
   "outputs": [],
   "source": [
    "a_max_firms = 2*a_cap_firms\n",
    "pi_s_array = np.linspace(0.00, 0.25, 50)*pi_s\n",
    "#pi_s_array = np.linspace(0.08, 0.2, 30)*pi_s\n",
    "#pi_s_array = [0.0]"
   ]
  },
  {
   "cell_type": "code",
   "execution_count": 17,
   "metadata": {},
   "outputs": [
    {
     "data": {
      "text/plain": [
       "[<matplotlib.lines.Line2D at 0x11b407438>]"
      ]
     },
     "execution_count": 17,
     "metadata": {},
     "output_type": "execute_result"
    },
    {
     "data": {
      "image/png": "[encoded data removed]",
      "text/plain": [
       "<Figure size 432x288 with 1 Axes>"
      ]
     },
     "metadata": {},
     "output_type": "display_data"
    }
   ],
   "source": [
    "pi_g2 = pi_g\n",
    "#pi_g2 = pi_g_ercot\n",
    "#pi_s_array = np.asarray([0.15*pi_s])\n",
    "sol_wholesale_list_dcharge = []\n",
    "demand_charge = 10 #in $/kWp\n",
    "# Solve with demand charge for different costs of solar\n",
    "for pi_s2 in pi_s_array:\n",
    "    soluc_wholesale = solve_wholesale_aggregator_demandcharge(gen_per_m2, load_kw, a_max_firms, pi_s2, pi_g2, demand_charge)\n",
    "    sol_wholesale_list_dcharge.append(np.sum(soluc_wholesale))\n",
    "    clear_output()\n",
    "levelized_cost_array = (1-(1+r)**(-years))/r * pi_s_array*T #Obtain overnight cost of PV\n",
    "plt.plot(levelized_cost_array, sol_wholesale_list_dcharge)"
   ]
  },
  {
   "cell_type": "code",
   "execution_count": 22,
   "metadata": {},
   "outputs": [
    {
     "data": {
      "text/plain": [
       "array([122300.40004408, 122300.40004408, 122300.40004408, 122300.40004408,\n",
       "       122300.40004408, 122300.40004408, 122300.40004408, 122300.40004408,\n",
       "       122300.40004408, 122300.40004408, 122300.40004408, 122300.40004408,\n",
       "       122300.40004408, 122065.45242721, 122065.45242721, 122065.45242721,\n",
       "       122065.45242721, 122065.45242721, 121564.2703779 , 121092.88012921,\n",
       "       120292.16928279, 118471.11876876, 117210.21403849, 115103.36711805,\n",
       "       111869.21239303, 108871.93948067, 102650.073843  ,  94064.25187391,\n",
       "        85232.04868512,  75474.42867935,  65197.66040168,  52225.39570302,\n",
       "        40689.26201517,  29304.99658589,  20134.90739103,  13203.7542028 ,\n",
       "         6789.41440869,   3421.18397721,   1471.37178542,    717.75027002,\n",
       "          350.76245758,      0.        ,      0.        ,      0.        ,\n",
       "            0.        ,      0.        ,      0.        ,      0.        ,\n",
       "            0.        ,      0.        ])"
      ]
     },
     "execution_count": 22,
     "metadata": {},
     "output_type": "execute_result"
    }
   ],
   "source": [
    "np.asarray(sol_wholesale_list)"
   ]
  },
  {
   "cell_type": "code",
   "execution_count": 16,
   "metadata": {},
   "outputs": [
    {
     "data": {
      "text/plain": [
       "[<matplotlib.lines.Line2D at 0x11b544f60>]"
      ]
     },
     "execution_count": 16,
     "metadata": {},
     "output_type": "execute_result"
    },
    {
     "data": {
      "image/png": "[encoded data removed]",
      "text/plain": [
       "<Figure size 432x288 with 1 Axes>"
      ]
     },
     "metadata": {},
     "output_type": "display_data"
    }
   ],
   "source": [
    "#pi_g2 = pi_g\n",
    "pi_g2 = pi_g_ercot\n",
    "sol_wholesale_list = []\n",
    "# Solve without demand charge for different costs of solar\n",
    "for pi_s2 in pi_s_array:\n",
    "    soluc_wholesale_energy = solve_wholesale_aggregator(gen_per_m2, load_kw, a_max_firms, pi_s2, pi_g2)\n",
    "    sol_wholesale_list.append(np.sum(soluc_wholesale_energy))\n",
    "    clear_output()\n",
    "levelized_cost_array = (1-(1+r)**(-years))/r * pi_s_array*T #Obtain overnight cost of PV\n",
    "plt.plot(levelized_cost_array, sol_wholesale_list)"
   ]
  },
  {
   "cell_type": "code",
   "execution_count": 84,
   "metadata": {},
   "outputs": [
    {
     "data": {
      "text/plain": [
       "[<matplotlib.lines.Line2D at 0xb19ca5588>]"
      ]
     },
     "execution_count": 84,
     "metadata": {},
     "output_type": "execute_result"
    },
    {
     "data": {
      "image/png": "[encoded data removed]",
      "text/plain": [
       "<Figure size 432x288 with 1 Axes>"
      ]
     },
     "metadata": {},
     "output_type": "display_data"
    }
   ],
   "source": [
    "pi_g2 = pi_g\n",
    "#pi_g2 = pi_g_ercot\n",
    "sol_wholesale_list = []\n",
    "# Solve without demand charge for different costs of solar\n",
    "for pi_s2 in pi_s_array:\n",
    "    soluc_wholesale_energy = solve_wholesale_aggregator(gen_per_m2, load_kw, a_max_firms, pi_s2, pi_g2)\n",
    "    sol_wholesale_list.append(np.sum(soluc_wholesale_energy))\n",
    "    clear_output()\n",
    "levelized_cost_array = (1-(1+r)**(-years))/r * pi_s_array*T #Obtain overnight cost of PV\n",
    "plt.plot(levelized_cost_array, sol_wholesale_list)"
   ]
  },
  {
   "cell_type": "code",
   "execution_count": 83,
   "metadata": {},
   "outputs": [
    {
     "data": {
      "text/plain": [
       "0.03311974685286726"
      ]
     },
     "execution_count": 83,
     "metadata": {},
     "output_type": "execute_result"
    }
   ],
   "source": [
    "np.mean(pi_g)"
   ]
  },
  {
   "cell_type": "code",
   "execution_count": 13,
   "metadata": {},
   "outputs": [
    {
     "name": "stdout",
     "output_type": "stream",
     "text": [
      "40.869598279638275\n",
      "46.49627836971733\n"
     ]
    }
   ],
   "source": [
    "e_cost = wholesale_energy_costs(gen_per_m2,  load_kw, soluc_wholesale, pi_g) #Print energy costs for the collective with the solution of investment\n",
    "print(e_cost)\n",
    "e_cost = wholesale_energy_costs(gen_per_m2,  load_kw, 0, pi_g) #Print energy costs for the collective without investment in PV\n",
    "print(e_cost)"
   ]
  },
  {
   "cell_type": "code",
   "execution_count": 14,
   "metadata": {},
   "outputs": [
    {
     "name": "stdout",
     "output_type": "stream",
     "text": [
      "36.21559727498308\n",
      "38.45957930610138\n"
     ]
    }
   ],
   "source": [
    "d_cost = wholesale_demand_charge_costs(gen_per_m2, load_kw, soluc_wholesale, 10) #Print demand charge for the collective with the solution of investment\n",
    "print(np.sum(d_cost))\n",
    "zero_sol = np.zeros(validdata)\n",
    "d_cost = wholesale_demand_charge_costs(gen_per_m2, load_kw, zero_sol, 10) #Print demand charge for the collective without investment in PV\n",
    "print(np.sum(d_cost))"
   ]
  },
  {
   "cell_type": "code",
   "execution_count": null,
   "metadata": {},
   "outputs": [],
   "source": [
    "tot_d_cost = np.sum(d_cost)\n",
    "e_proportion = e_cost/(tot_d_cost+e_cost)*100\n",
    "print(e_proportion) #Print proportion of energy costs with respect to total costs without PV investment"
   ]
  },
  {
   "cell_type": "markdown",
   "metadata": {},
   "source": [
    "## Explore changes in profits for the Utility"
   ]
  },
  {
   "cell_type": "code",
   "execution_count": null,
   "metadata": {},
   "outputs": [],
   "source": [
    "avg_profit_nopv = utility_profit_no_investment(load_kw, pi_r)"
   ]
  },
  {
   "cell_type": "code",
   "execution_count": null,
   "metadata": {},
   "outputs": [],
   "source": [
    "avg_profit_standalone = utility_profit_standalone(gen_per_m2, load_kw, investment_standalone, pi_r, pi_nm)"
   ]
  },
  {
   "cell_type": "code",
   "execution_count": null,
   "metadata": {},
   "outputs": [],
   "source": [
    "avg_profit_sharing = utility_profit_sharing(gen_per_m2, load_kw, sol_sharing, pi_r)"
   ]
  },
  {
   "cell_type": "code",
   "execution_count": null,
   "metadata": {},
   "outputs": [],
   "source": [
    "pi_s_array = np.linspace(0.1, 0.2, 11)*pi_s\n",
    "print(pi_s_array)"
   ]
  },
  {
   "cell_type": "code",
   "execution_count": null,
   "metadata": {},
   "outputs": [],
   "source": [
    "np.sum(load_kw, axis=1).size"
   ]
  },
  {
   "cell_type": "code",
   "execution_count": null,
   "metadata": {},
   "outputs": [],
   "source": [
    "aux = a_max_firms*gen_per_m2"
   ]
  },
  {
   "cell_type": "code",
   "execution_count": null,
   "metadata": {},
   "outputs": [],
   "source": [
    "print(aux[10,1])\n",
    "print(gen_per_m2[10,1])\n",
    "print(a_max_firms[1]*gen_per_m2[10,1])"
   ]
  },
  {
   "cell_type": "code",
   "execution_count": null,
   "metadata": {},
   "outputs": [],
   "source": [
    "df3 = df2.groupby(['OPR_HR']).mean()\n",
    "print(df3)"
   ]
  },
  {
   "cell_type": "code",
   "execution_count": null,
   "metadata": {},
   "outputs": [],
   "source": [
    "df4 = df2.mean()"
   ]
  },
  {
   "cell_type": "code",
   "execution_count": null,
   "metadata": {},
   "outputs": [],
   "source": [
    "print(df4)"
   ]
  },
  {
   "cell_type": "code",
   "execution_count": null,
   "metadata": {},
   "outputs": [],
   "source": [
    "A = np.array([[1,2],[3,4]])\n",
    "b = np.array([[1,2]])\n",
    "sol1 = np.dot(A,b.T)\n",
    "sol2 = np.matmul(A,b.T)\n",
    "print(sol1)\n",
    "print(sol2)"
   ]
  },
  {
   "cell_type": "code",
   "execution_count": null,
   "metadata": {},
   "outputs": [],
   "source": [
    "31+28+31"
   ]
  },
  {
   "cell_type": "code",
   "execution_count": null,
   "metadata": {},
   "outputs": [],
   "source": [
    "localtime_data[24*334:]"
   ]
  },
  {
   "cell_type": "code",
   "execution_count": null,
   "metadata": {},
   "outputs": [],
   "source": [
    "load_cost_matrix = (load_kw.T * pi_g).T"
   ]
  },
  {
   "cell_type": "code",
   "execution_count": null,
   "metadata": {},
   "outputs": [],
   "source": [
    "load_cost_january = load_cost_matrix[0:24*31-1, :]"
   ]
  },
  {
   "cell_type": "code",
   "execution_count": null,
   "metadata": {},
   "outputs": [],
   "source": [
    "load_cost_january.shape"
   ]
  },
  {
   "cell_type": "code",
   "execution_count": null,
   "metadata": {},
   "outputs": [],
   "source": [
    "np.max([1,2,4])"
   ]
  },
  {
   "cell_type": "code",
   "execution_count": null,
   "metadata": {},
   "outputs": [],
   "source": []
  }
 ],
 "metadata": {
  "kernelspec": {
   "display_name": "Python 3",
   "language": "python",
   "name": "python3"
  },
  "language_info": {
   "codemirror_mode": {
    "name": "ipython",
    "version": 3
   },
   "file_extension": ".py",
   "mimetype": "text/x-python",
   "name": "python",
   "nbconvert_exporter": "python",
   "pygments_lexer": "ipython3",
   "version": "3.6.5"
  }
 },
 "nbformat": 4,
 "nbformat_minor": 2
}
