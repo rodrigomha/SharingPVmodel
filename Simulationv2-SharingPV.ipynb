{
 "cells": [
  {
   "cell_type": "code",
   "execution_count": 14,
   "metadata": {},
   "outputs": [],
   "source": [
    "%run -i 'src/SPV.py'\n",
    "from src.data_functions import *\n",
    "from src.solution_algorithms import *"
   ]
  },
  {
   "cell_type": "code",
   "execution_count": 15,
   "metadata": {},
   "outputs": [
    {
     "data": {
      "text/html": [
       "<div>\n",
       "<style scoped>\n",
       "    .dataframe tbody tr th:only-of-type {\n",
       "        vertical-align: middle;\n",
       "    }\n",
       "\n",
       "    .dataframe tbody tr th {\n",
       "        vertical-align: top;\n",
       "    }\n",
       "\n",
       "    .dataframe thead th {\n",
       "        text-align: right;\n",
       "    }\n",
       "</style>\n",
       "<table border=\"1\" class=\"dataframe\">\n",
       "  <thead>\n",
       "    <tr style=\"text-align: right;\">\n",
       "      <th></th>\n",
       "      <th>dataid</th>\n",
       "      <th>localhour</th>\n",
       "      <th>use</th>\n",
       "      <th>gen_per_kW</th>\n",
       "    </tr>\n",
       "  </thead>\n",
       "  <tbody>\n",
       "    <tr>\n",
       "      <th>0</th>\n",
       "      <td>26</td>\n",
       "      <td>2017-01-01 00:00:00</td>\n",
       "      <td>1.788817</td>\n",
       "      <td>0.0</td>\n",
       "    </tr>\n",
       "    <tr>\n",
       "      <th>1</th>\n",
       "      <td>26</td>\n",
       "      <td>2017-01-01 01:00:00</td>\n",
       "      <td>1.223917</td>\n",
       "      <td>0.0</td>\n",
       "    </tr>\n",
       "    <tr>\n",
       "      <th>2</th>\n",
       "      <td>26</td>\n",
       "      <td>2017-01-01 02:00:00</td>\n",
       "      <td>0.668367</td>\n",
       "      <td>0.0</td>\n",
       "    </tr>\n",
       "    <tr>\n",
       "      <th>3</th>\n",
       "      <td>26</td>\n",
       "      <td>2017-01-01 03:00:00</td>\n",
       "      <td>0.478667</td>\n",
       "      <td>0.0</td>\n",
       "    </tr>\n",
       "    <tr>\n",
       "      <th>4</th>\n",
       "      <td>26</td>\n",
       "      <td>2017-01-01 04:00:00</td>\n",
       "      <td>0.416283</td>\n",
       "      <td>0.0</td>\n",
       "    </tr>\n",
       "  </tbody>\n",
       "</table>\n",
       "</div>"
      ],
      "text/plain": [
       "   dataid            localhour       use  gen_per_kW\n",
       "0      26  2017-01-01 00:00:00  1.788817         0.0\n",
       "1      26  2017-01-01 01:00:00  1.223917         0.0\n",
       "2      26  2017-01-01 02:00:00  0.668367         0.0\n",
       "3      26  2017-01-01 03:00:00  0.478667         0.0\n",
       "4      26  2017-01-01 04:00:00  0.416283         0.0"
      ]
     },
     "execution_count": 15,
     "metadata": {},
     "output_type": "execute_result"
    }
   ],
   "source": [
    "df = pd.read_csv('data/full_randomized_2017_hourly_normalized_v2.csv')\n",
    "df.head()"
   ]
  },
  {
   "cell_type": "code",
   "execution_count": 16,
   "metadata": {},
   "outputs": [],
   "source": [
    "dataids = obtain_dataid_2017(df)\n",
    "dataids_array = np.asarray(dataids)\n",
    "validdata = len(dataids)\n",
    "T = len(df[df.dataid==26].use.values)\n",
    "localtime_data = df[df.dataid==26].localhour"
   ]
  },
  {
   "cell_type": "code",
   "execution_count": 17,
   "metadata": {},
   "outputs": [],
   "source": [
    "gen_kw = f_gen_per_kw(df)\n",
    "load_kw = f_load_kw(df)"
   ]
  },
  {
   "cell_type": "markdown",
   "metadata": {},
   "source": [
    "1 m$^2$ is 1550 in$^2$\n",
    "\n",
    "Typical size of solar panel: is 65 in for 39 in = 2535 in$^2$ = 1.6354 m$^2$.\n",
    "\n",
    "The rated power of a solar panel is typically between 250 to 350W.\n",
    "\n",
    "To convert we use: gen_per_kw by 0.3 / 1.6354 to get gen_per_m$^2$."
   ]
  },
  {
   "cell_type": "code",
   "execution_count": 18,
   "metadata": {},
   "outputs": [],
   "source": [
    "gen_per_m2 = gen_kw*0.3/1.6354"
   ]
  },
  {
   "cell_type": "code",
   "execution_count": 19,
   "metadata": {},
   "outputs": [
    {
     "name": "stdout",
     "output_type": "stream",
     "text": [
      "Cost of PV per time step: 0.004695025492240356\n"
     ]
    }
   ],
   "source": [
    "#Investment per m2 is 512.2 $/m2.\n",
    "#Using an anualized cost with discount rate r=5%, we obtain\n",
    "CostPVperM2 = 512.2\n",
    "r = 0.05\n",
    "years = 20\n",
    "annuity = CostPVperM2*r/(1-(1+r)**(-years)) #Obtain Annuity \n",
    "pi_s = annuity/T #Obtain cost per time step\n",
    "print('Cost of PV per time step: ' + str(pi_s))"
   ]
  },
  {
   "cell_type": "code",
   "execution_count": 20,
   "metadata": {},
   "outputs": [],
   "source": [
    "firms = validdata #Number of firms\n",
    "gamma = 1 #Factor of NM price\n",
    "pi_r = 0.18   #Retail Price at 18 cents per kWh.\n",
    "pi_nm = gamma*pi_r  #Net Metering Price\n",
    "a_cap_firms = f_cap_firms(gen_per_m2, load_kw) #Cap for firms to not be net producers\n",
    "a_max_firms = 0.2*a_cap_firms"
   ]
  },
  {
   "cell_type": "code",
   "execution_count": 14,
   "metadata": {},
   "outputs": [],
   "source": [
    "pv_changes = []\n",
    "#gamma = np.linspace(0,1,21)\n",
    "gamma = [0.9]\n",
    "for g in gamma:\n",
    "    pi_nm = g*pi_r\n",
    "    %run -i 'src/Case_01.py'\n",
    "    pv_changes.append(aux)\n",
    "    clear_output()"
   ]
  },
  {
   "cell_type": "code",
   "execution_count": 33,
   "metadata": {},
   "outputs": [
    {
     "data": {
      "text/plain": [
       "[<matplotlib.lines.Line2D at 0xb169d34a8>]"
      ]
     },
     "execution_count": 33,
     "metadata": {},
     "output_type": "execute_result"
    },
    {
     "data": {
      "image/png": "[encoded data removed]",
      "text/plain": [
       "<Figure size 432x288 with 1 Axes>"
      ]
     },
     "metadata": {},
     "output_type": "display_data"
    }
   ],
   "source": [
    "coll_load = f_collective_load(load_kw)\n",
    "coll_gen = f_collective_gen(gen_per_m2, sol_sharing)\n",
    "coll_net_load = coll_load - coll_gen\n",
    "plt.plot(coll_net_load[24*31:24*32+1])"
   ]
  },
  {
   "cell_type": "code",
   "execution_count": 40,
   "metadata": {},
   "outputs": [
    {
     "name": "stdout",
     "output_type": "stream",
     "text": [
      "[ 929.51619342  844.16001389  756.69664153  729.78653056  819.19643405\n",
      "  807.18477984  957.81448511 1096.96188602 1060.86053488  934.9456911\n",
      "  708.62440244  648.80449487  543.85831704  482.56059393  485.4801447\n",
      "  587.8861991   749.93696978  968.37959581 1247.05265074 1363.29852708\n",
      " 1316.53304956 1255.24964595 1189.96122378 1031.30036925]\n"
     ]
    }
   ],
   "source": [
    "print(coll_net_load[24*31:24*32])"
   ]
  },
  {
   "cell_type": "code",
   "execution_count": 28,
   "metadata": {},
   "outputs": [],
   "source": []
  },
  {
   "cell_type": "code",
   "execution_count": 31,
   "metadata": {},
   "outputs": [
    {
     "data": {
      "text/plain": [
       "744    2017-02-01 00:00:00\n",
       "745    2017-02-01 01:00:00\n",
       "746    2017-02-01 02:00:00\n",
       "747    2017-02-01 03:00:00\n",
       "748    2017-02-01 04:00:00\n",
       "749    2017-02-01 05:00:00\n",
       "750    2017-02-01 06:00:00\n",
       "751    2017-02-01 07:00:00\n",
       "752    2017-02-01 08:00:00\n",
       "753    2017-02-01 09:00:00\n",
       "754    2017-02-01 10:00:00\n",
       "755    2017-02-01 11:00:00\n",
       "756    2017-02-01 12:00:00\n",
       "757    2017-02-01 13:00:00\n",
       "758    2017-02-01 14:00:00\n",
       "759    2017-02-01 15:00:00\n",
       "760    2017-02-01 16:00:00\n",
       "761    2017-02-01 17:00:00\n",
       "762    2017-02-01 18:00:00\n",
       "763    2017-02-01 19:00:00\n",
       "764    2017-02-01 20:00:00\n",
       "765    2017-02-01 21:00:00\n",
       "766    2017-02-01 22:00:00\n",
       "767    2017-02-01 23:00:00\n",
       "768    2017-02-02 00:00:00\n",
       "Name: localhour, dtype: object"
      ]
     },
     "execution_count": 31,
     "metadata": {},
     "output_type": "execute_result"
    }
   ],
   "source": [
    "localtime_data[24*31:24*32+1]"
   ]
  },
  {
   "cell_type": "code",
   "execution_count": 39,
   "metadata": {},
   "outputs": [
    {
     "name": "stdout",
     "output_type": "stream",
     "text": [
      "[ 0.72421667  0.64238333  0.56946667  0.60318333  0.63863333  0.54948333\n",
      "  0.5576      0.6841555   0.47473337  0.11177768 -0.58855994 -1.04433064\n",
      " -1.34983957 -0.26789962  2.64641096  2.94450022  2.02627008  0.25964339\n",
      "  0.90963333  0.85818333  0.78878333  0.6367      0.63215     0.50681667]\n"
     ]
    }
   ],
   "source": [
    "load_dataid_330 = load_kw[:,6]\n",
    "gen_dataid_330 = gen_per_m2[:,6]*investment_standalone[6]\n",
    "netload_dataid_330 = load_dataid_330 - gen_dataid_330\n",
    "print(netload_dataid_330[24*31:24*32])"
   ]
  },
  {
   "cell_type": "code",
   "execution_count": 12,
   "metadata": {},
   "outputs": [
    {
     "name": "stdout",
     "output_type": "stream",
     "text": [
      "[1.0593219081332161, 1.0315641915037417, 1.0024351906111129, 0.9698924657036252, 0.9350390289445311, 0.8987029117955894, 0.8593924626548064, 0.8186130301240024, 0.7747903624227751, 0.7267145228621336, 0.6759769283964651, 0.6213546043226311, 0.5637410220699046, 0.496885576479962, 0.4257993862328348, 0.34744581133312286, 0.26839341714819137, 0.19236603434144148, 0.11984696768468528, 0.06049558634971119, 0.0]\n"
     ]
    }
   ],
   "source": [
    "print(pv_changes)"
   ]
  },
  {
   "cell_type": "code",
   "execution_count": 13,
   "metadata": {},
   "outputs": [],
   "source": [
    "pv_changes_case01 = [1.0593219081332161, 1.0315641915037417, 1.0024351906111129, 0.9698924657036252, 0.9350390289445311, 0.8987029117955894, 0.8593924626548064, 0.8186130301240024, 0.7747903624227751, 0.7267145228621336, 0.6759769283964651, 0.6213546043226311, 0.5637410220699046, 0.496885576479962, 0.4257993862328348, 0.34744581133312286, 0.26839341714819137, 0.19236603434144148, 0.11984696768468528, 0.06049558634971119, 0.0]"
   ]
  },
  {
   "cell_type": "code",
   "execution_count": 14,
   "metadata": {},
   "outputs": [
    {
     "data": {
      "text/plain": [
       "[<matplotlib.lines.Line2D at 0xb1fdf7518>]"
      ]
     },
     "execution_count": 14,
     "metadata": {},
     "output_type": "execute_result"
    },
    {
     "data": {
      "image/png": "[encoded data removed]",
      "text/plain": [
       "<Figure size 432x288 with 1 Axes>"
      ]
     },
     "metadata": {},
     "output_type": "display_data"
    }
   ],
   "source": [
    "plt.plot(gamma, pv_changes)"
   ]
  },
  {
   "cell_type": "code",
   "execution_count": null,
   "metadata": {},
   "outputs": [],
   "source": [
    "investment_standalone = solve_standalone(gen_per_m2, load_kw, dataids, a_max_firms, pi_s, pi_r, pi_nm)"
   ]
  },
  {
   "cell_type": "code",
   "execution_count": null,
   "metadata": {},
   "outputs": [],
   "source": [
    "print('\\n')\n",
    "print('Investment decisions:')\n",
    "print(investment_standalone) #Print investment decisions\n",
    "print('\\n')\n",
    "print('Percentage of investment per firm (with respect to max_cap)')\n",
    "print(1-(a_max_firms - investment_standalone)/a_max_firms) #Print percentage of investment of available max cap\n",
    "print('\\n Total Investment of PV in standalone case is '+ str(sum(investment_standalone)) + ' in m2 \\n')"
   ]
  },
  {
   "cell_type": "code",
   "execution_count": null,
   "metadata": {},
   "outputs": [],
   "source": [
    "soluc_sharing = solve_sharing_collective(gen_per_m2, load_kw, dataids_array, a_max_firms, pi_s, pi_r)\n",
    "sol_sharing = firms_investment_sharing(soluc_sharing, a_max_firms, firms)"
   ]
  },
  {
   "cell_type": "code",
   "execution_count": null,
   "metadata": {},
   "outputs": [],
   "source": [
    "coll_load = f_collective_load(load_kw)\n",
    "coll_gen = f_collective_gen(gen_per_m2, sol_sharing)\n",
    "hours_neg = f_hours_collective_net_load_negative(coll_load, coll_gen)"
   ]
  },
  {
   "cell_type": "code",
   "execution_count": null,
   "metadata": {},
   "outputs": [],
   "source": [
    "(np.sum(sol_sharing) - np.sum(investment_standalone))/np.sum(investment_standalone)"
   ]
  },
  {
   "cell_type": "code",
   "execution_count": null,
   "metadata": {},
   "outputs": [],
   "source": []
  },
  {
   "cell_type": "code",
   "execution_count": null,
   "metadata": {},
   "outputs": [],
   "source": [
    "np.sum(aux, axis=1).shape"
   ]
  },
  {
   "cell_type": "code",
   "execution_count": 21,
   "metadata": {},
   "outputs": [],
   "source": [
    "df2 = pd.read_csv('data/LMP_2017_data.csv')\n",
    "pi_g = f_lmp_prices(df2) #Data is in $/MWh\n",
    "pi_g = pi_g/1000 # convert to $/kWh"
   ]
  },
  {
   "cell_type": "code",
   "execution_count": 22,
   "metadata": {},
   "outputs": [],
   "source": [
    "a_max_firms = 0.5*a_cap_firms"
   ]
  },
  {
   "cell_type": "code",
   "execution_count": 79,
   "metadata": {},
   "outputs": [],
   "source": [
    "def solve_wholesale_aggregator_demandcharge2(gen_per_m2, load_kw, a_max_firms, pi_s, pi_g, demand_charge):\n",
    "    firms = len(a_max_firms)\n",
    "    a_inv = cvx.Variable(firms)\n",
    "    T = len(gen_per_m2[:,0])\n",
    "    \n",
    "    #obtain timeseries for each month\n",
    "    load_jan = load_kw[0:24*31, :]\n",
    "    gen_jan = gen_per_m2[0:24*31, :]\n",
    "    load_feb =  load_kw[24*31:24*59, :]\n",
    "    gen_feb = gen_per_m2[24*31:24*59, :]\n",
    "    load_mar = load_kw[24*59:24*90, :]\n",
    "    gen_mar = gen_per_m2[24*59:24*90, :]\n",
    "    load_apr = load_kw[24*90:24*120 , :]\n",
    "    gen_apr = gen_per_m2[24*90:24*120 , :]\n",
    "    load_may = load_kw[24*120:24*151 , :]\n",
    "    gen_may = gen_per_m2[24*120:24*151 , :]\n",
    "    load_jun = load_kw[24*151:24*181 , :]\n",
    "    gen_jun = gen_per_m2[24*151:24*181 , :]\n",
    "    load_jul = load_kw[24*181:24*212 , :]\n",
    "    gen_jul = gen_per_m2[24*181:24*212 , :]\n",
    "    load_aug = load_kw[24*212:24*243 , :]\n",
    "    gen_aug = gen_per_m2[24*212:24*243 , :]\n",
    "    load_sep = load_kw[24*243:24*273 , :]\n",
    "    gen_sep = gen_per_m2[24*243:24*273 , :]\n",
    "    load_oct = load_kw[24*273:24*304 , :]\n",
    "    gen_oct = gen_per_m2[24*273:24*304 , :]\n",
    "    load_nov = load_kw[24*304:24*334 , :]\n",
    "    gen_nov = gen_per_m2[24*304:24*334 , :]\n",
    "    load_dec = load_kw[24*334: , :]\n",
    "    gen_dec = gen_per_m2[24*334: , :]\n",
    "    \n",
    "    d_charge = demand_charge/12  #average monthly payment \n",
    "    load_cost_matrix = (load_kw.T * pi_g).T #define a matrix of size (8754, 1000) that contains the cost of purchasing electricity\n",
    "    gen_profit_matrix = (gen_per_m2.T * pi_g).T #define a matrix of size (8754, 1000) that contains the cost of selling electricity per m2\n",
    "    obj = pi_s*cvx.sum(a_inv) + np.sum(load_cost_matrix)/T - cvx.sum(a_inv*np.sum(gen_profit_matrix,axis=0))/T\n",
    "    obj = obj + d_charge* cvx.norm(np.sum(load_jan,axis=1) - gen_jan*a_inv,'inf') + d_charge* cvx.norm(np.sum(load_feb,axis=1) - gen_feb*a_inv,'inf') \n",
    "    obj = obj + d_charge* cvx.norm(np.sum(load_mar,axis=1) - gen_mar*a_inv,'inf') + d_charge* cvx.norm(np.sum(load_apr,axis=1) - gen_apr*a_inv,'inf') \n",
    "    obj = obj + d_charge* cvx.norm(np.sum(load_may,axis=1) - gen_may*a_inv,'inf') + d_charge* cvx.norm(np.sum(load_jun,axis=1) - gen_jun*a_inv,'inf') \n",
    "    obj = obj + d_charge* cvx.norm(np.sum(load_jul,axis=1) - gen_jul*a_inv,'inf') + d_charge* cvx.norm(np.sum(load_aug,axis=1) - gen_aug*a_inv,'inf') \n",
    "    obj = obj + d_charge* cvx.norm(np.sum(load_sep,axis=1) - gen_sep*a_inv,'inf') + d_charge* cvx.norm(np.sum(load_oct,axis=1) - gen_oct*a_inv,'inf') \n",
    "    obj = obj + d_charge* cvx.norm(np.sum(load_nov,axis=1) - gen_nov*a_inv,'inf') + d_charge* cvx.norm(np.sum(load_dec,axis=1) - gen_dec*a_inv,'inf') \n",
    "    constraints = [a_inv >= 0, a_inv <= a_max_firms]\n",
    "    prob = cvx.Problem(cvx.Minimize(obj), constraints)\n",
    "    prob.solve(solver=cvx.GUROBI, verbose=True)\n",
    "    print(\"optimal value with GUROBI:\", prob.value)\n",
    "    return a_inv.value"
   ]
  },
  {
   "cell_type": "code",
   "execution_count": 80,
   "metadata": {},
   "outputs": [
    {
     "data": {
      "text/plain": [
       "[<matplotlib.lines.Line2D at 0x1129b42b0>]"
      ]
     },
     "execution_count": 80,
     "metadata": {},
     "output_type": "execute_result"
    },
    {
     "data": {
      "image/png": "[encoded data removed]",
      "text/plain": [
       "<Figure size 432x288 with 1 Axes>"
      ]
     },
     "metadata": {},
     "output_type": "display_data"
    }
   ],
   "source": [
    "pi_g2 = pi_g\n",
    "pi_s_array = np.linspace(0.08, 0.2, 10)*pi_s\n",
    "#pi_s_array = [0.15*pi_s, 0.2*pi_s]\n",
    "sol_wholesale_list = []\n",
    "for pi_s2 in pi_s_array:\n",
    "    soluc_wholesale = solve_wholesale_aggregator_demandcharge2(gen_per_m2, load_kw, a_max_firms, pi_s2, pi_g2)\n",
    "    sol_wholesale_list.append(np.sum(soluc_wholesale))\n",
    "    clear_output()\n",
    "levelized_cost_array = (1-(1+r)**(-years))/r * pi_s_array*T\n",
    "plt.plot(levelized_cost_array, sol_wholesale_list)"
   ]
  },
  {
   "cell_type": "code",
   "execution_count": 81,
   "metadata": {},
   "outputs": [
    {
     "data": {
      "text/plain": [
       "[<matplotlib.lines.Line2D at 0x112f53ef0>]"
      ]
     },
     "execution_count": 81,
     "metadata": {},
     "output_type": "execute_result"
    },
    {
     "data": {
      "image/png": "[encoded data removed]",
      "text/plain": [
       "<Figure size 432x288 with 1 Axes>"
      ]
     },
     "metadata": {},
     "output_type": "display_data"
    }
   ],
   "source": [
    "pi_g2 = pi_g\n",
    "pi_s2 = 0.11*pi_s\n",
    "pi_s_array = np.linspace(0.08, 0.2, 10)*pi_s\n",
    "#pi_s_array = [0.15*pi_s, 0.2*pi_s]\n",
    "sol_wholesale_list = []\n",
    "for pi_s2 in pi_s_array:\n",
    "    soluc_wholesale = solve_wholesale_aggregator(gen_per_m2, load_kw, a_max_firms, pi_s2, pi_g2)\n",
    "    sol_wholesale_list.append(np.sum(soluc_wholesale))\n",
    "    clear_output()\n",
    "levelized_cost_array = (1-(1+r)**(-years))/r * pi_s_array*T\n",
    "plt.plot(levelized_cost_array, sol_wholesale_list)"
   ]
  },
  {
   "cell_type": "code",
   "execution_count": null,
   "metadata": {},
   "outputs": [],
   "source": [
    "avg_profit_nopv = utility_profit_no_investment(load_kw, pi_r)"
   ]
  },
  {
   "cell_type": "code",
   "execution_count": null,
   "metadata": {},
   "outputs": [],
   "source": [
    "avg_profit_standalone = utility_profit_standalone(gen_per_m2, load_kw, investment_standalone, pi_r, pi_nm)"
   ]
  },
  {
   "cell_type": "code",
   "execution_count": null,
   "metadata": {},
   "outputs": [],
   "source": [
    "avg_profit_sharing = utility_profit_sharing(gen_per_m2, load_kw, sol_sharing, pi_r)"
   ]
  },
  {
   "cell_type": "code",
   "execution_count": 39,
   "metadata": {},
   "outputs": [
    {
     "name": "stdout",
     "output_type": "stream",
     "text": [
      "[0.0004695  0.00051645 0.0005634  0.00061035 0.0006573  0.00070425\n",
      " 0.0007512  0.00079815 0.0008451  0.00089205 0.00093901]\n"
     ]
    }
   ],
   "source": [
    "pi_s_array = np.linspace(0.1, 0.2, 11)*pi_s\n",
    "print(pi_s_array)"
   ]
  },
  {
   "cell_type": "code",
   "execution_count": 48,
   "metadata": {},
   "outputs": [
    {
     "data": {
      "text/plain": [
       "8754"
      ]
     },
     "execution_count": 48,
     "metadata": {},
     "output_type": "execute_result"
    }
   ],
   "source": [
    "np.sum(load_kw, axis=1).size"
   ]
  },
  {
   "cell_type": "code",
   "execution_count": 55,
   "metadata": {},
   "outputs": [],
   "source": [
    "aux = a_max_firms*gen_per_m2"
   ]
  },
  {
   "cell_type": "code",
   "execution_count": 59,
   "metadata": {},
   "outputs": [
    {
     "name": "stdout",
     "output_type": "stream",
     "text": [
      "1.1510310999052593\n",
      "0.03198223676164852\n",
      "1.1510310999052593\n"
     ]
    }
   ],
   "source": [
    "print(aux[10,1])\n",
    "print(gen_per_m2[10,1])\n",
    "print(a_max_firms[1]*gen_per_m2[10,1])"
   ]
  },
  {
   "cell_type": "code",
   "execution_count": null,
   "metadata": {},
   "outputs": [],
   "source": [
    "df3 = df2.groupby(['OPR_HR']).mean()\n",
    "print(df3)"
   ]
  },
  {
   "cell_type": "code",
   "execution_count": null,
   "metadata": {},
   "outputs": [],
   "source": [
    "df4 = df2.mean()"
   ]
  },
  {
   "cell_type": "code",
   "execution_count": null,
   "metadata": {},
   "outputs": [],
   "source": [
    "print(df4)"
   ]
  },
  {
   "cell_type": "code",
   "execution_count": 47,
   "metadata": {},
   "outputs": [
    {
     "data": {
      "text/plain": [
       "729.5"
      ]
     },
     "execution_count": 47,
     "metadata": {},
     "output_type": "execute_result"
    }
   ],
   "source": [
    "8754/12"
   ]
  },
  {
   "cell_type": "code",
   "execution_count": 64,
   "metadata": {},
   "outputs": [
    {
     "data": {
      "text/plain": [
       "90"
      ]
     },
     "execution_count": 64,
     "metadata": {},
     "output_type": "execute_result"
    }
   ],
   "source": [
    "31+28+31"
   ]
  },
  {
   "cell_type": "code",
   "execution_count": 84,
   "metadata": {},
   "outputs": [
    {
     "data": {
      "text/plain": [
       "8016    2017-12-01 00:00:00\n",
       "8017    2017-12-01 01:00:00\n",
       "8018    2017-12-01 02:00:00\n",
       "8019    2017-12-01 03:00:00\n",
       "8020    2017-12-01 04:00:00\n",
       "8021    2017-12-01 05:00:00\n",
       "8022    2017-12-01 06:00:00\n",
       "8023    2017-12-01 07:00:00\n",
       "8024    2017-12-01 08:00:00\n",
       "8025    2017-12-01 09:00:00\n",
       "8026    2017-12-01 10:00:00\n",
       "8027    2017-12-01 11:00:00\n",
       "8028    2017-12-01 12:00:00\n",
       "8029    2017-12-01 13:00:00\n",
       "8030    2017-12-01 14:00:00\n",
       "8031    2017-12-01 15:00:00\n",
       "8032    2017-12-01 16:00:00\n",
       "8033    2017-12-01 17:00:00\n",
       "8034    2017-12-01 18:00:00\n",
       "8035    2017-12-01 19:00:00\n",
       "8036    2017-12-01 20:00:00\n",
       "8037    2017-12-01 21:00:00\n",
       "8038    2017-12-01 22:00:00\n",
       "8039    2017-12-01 23:00:00\n",
       "8040    2017-12-02 00:00:00\n",
       "8041    2017-12-02 01:00:00\n",
       "8042    2017-12-02 02:00:00\n",
       "8043    2017-12-02 03:00:00\n",
       "8044    2017-12-02 04:00:00\n",
       "8045    2017-12-02 05:00:00\n",
       "               ...         \n",
       "8724    2017-12-30 12:00:00\n",
       "8725    2017-12-30 13:00:00\n",
       "8726    2017-12-30 14:00:00\n",
       "8727    2017-12-30 15:00:00\n",
       "8728    2017-12-30 16:00:00\n",
       "8729    2017-12-30 17:00:00\n",
       "8730    2017-12-30 18:00:00\n",
       "8731    2017-12-30 19:00:00\n",
       "8732    2017-12-30 20:00:00\n",
       "8733    2017-12-30 21:00:00\n",
       "8734    2017-12-30 22:00:00\n",
       "8735    2017-12-30 23:00:00\n",
       "8736    2017-12-31 00:00:00\n",
       "8737    2017-12-31 01:00:00\n",
       "8738    2017-12-31 02:00:00\n",
       "8739    2017-12-31 03:00:00\n",
       "8740    2017-12-31 04:00:00\n",
       "8741    2017-12-31 05:00:00\n",
       "8742    2017-12-31 06:00:00\n",
       "8743    2017-12-31 07:00:00\n",
       "8744    2017-12-31 08:00:00\n",
       "8745    2017-12-31 09:00:00\n",
       "8746    2017-12-31 10:00:00\n",
       "8747    2017-12-31 11:00:00\n",
       "8748    2017-12-31 12:00:00\n",
       "8749    2017-12-31 13:00:00\n",
       "8750    2017-12-31 14:00:00\n",
       "8751    2017-12-31 15:00:00\n",
       "8752    2017-12-31 16:00:00\n",
       "8753    2017-12-31 17:00:00\n",
       "Name: localhour, Length: 738, dtype: object"
      ]
     },
     "execution_count": 84,
     "metadata": {},
     "output_type": "execute_result"
    }
   ],
   "source": [
    "localtime_data[24*334:]"
   ]
  },
  {
   "cell_type": "code",
   "execution_count": 53,
   "metadata": {},
   "outputs": [],
   "source": [
    "load_cost_matrix = (load_kw.T * pi_g).T"
   ]
  },
  {
   "cell_type": "code",
   "execution_count": 56,
   "metadata": {},
   "outputs": [],
   "source": [
    "load_cost_january = load_cost_matrix[0:24*31-1, :]"
   ]
  },
  {
   "cell_type": "code",
   "execution_count": 58,
   "metadata": {},
   "outputs": [
    {
     "data": {
      "text/plain": [
       "(743, 1000)"
      ]
     },
     "execution_count": 58,
     "metadata": {},
     "output_type": "execute_result"
    }
   ],
   "source": [
    "load_cost_january.shape"
   ]
  },
  {
   "cell_type": "code",
   "execution_count": 86,
   "metadata": {},
   "outputs": [
    {
     "data": {
      "text/plain": [
       "4"
      ]
     },
     "execution_count": 86,
     "metadata": {},
     "output_type": "execute_result"
    }
   ],
   "source": [
    "np.max([1,2,4])"
   ]
  },
  {
   "cell_type": "code",
   "execution_count": null,
   "metadata": {},
   "outputs": [],
   "source": []
  }
 ],
 "metadata": {
  "kernelspec": {
   "display_name": "Python 3",
   "language": "python",
   "name": "python3"
  },
  "language_info": {
   "codemirror_mode": {
    "name": "ipython",
    "version": 3
   },
   "file_extension": ".py",
   "mimetype": "text/x-python",
   "name": "python",
   "nbconvert_exporter": "python",
   "pygments_lexer": "ipython3",
   "version": "3.6.5"
  }
 },
 "nbformat": 4,
 "nbformat_minor": 2
}
