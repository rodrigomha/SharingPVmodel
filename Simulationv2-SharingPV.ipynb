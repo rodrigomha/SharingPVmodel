{
 "cells": [
  {
   "cell_type": "code",
   "execution_count": 1,
   "metadata": {},
   "outputs": [],
   "source": [
    "%run -i 'src/SPV.py'\n",
    "from src.data_functions import *\n",
    "from src.solution_algorithms import *"
   ]
  },
  {
   "cell_type": "code",
   "execution_count": 2,
   "metadata": {},
   "outputs": [
    {
     "data": {
      "text/html": [
       "<div>\n",
       "<style scoped>\n",
       "    .dataframe tbody tr th:only-of-type {\n",
       "        vertical-align: middle;\n",
       "    }\n",
       "\n",
       "    .dataframe tbody tr th {\n",
       "        vertical-align: top;\n",
       "    }\n",
       "\n",
       "    .dataframe thead th {\n",
       "        text-align: right;\n",
       "    }\n",
       "</style>\n",
       "<table border=\"1\" class=\"dataframe\">\n",
       "  <thead>\n",
       "    <tr style=\"text-align: right;\">\n",
       "      <th></th>\n",
       "      <th>dataid</th>\n",
       "      <th>localhour</th>\n",
       "      <th>use</th>\n",
       "      <th>gen_per_kW</th>\n",
       "    </tr>\n",
       "  </thead>\n",
       "  <tbody>\n",
       "    <tr>\n",
       "      <th>0</th>\n",
       "      <td>26</td>\n",
       "      <td>2017-01-01 00:00:00</td>\n",
       "      <td>1.788817</td>\n",
       "      <td>0.0</td>\n",
       "    </tr>\n",
       "    <tr>\n",
       "      <th>1</th>\n",
       "      <td>26</td>\n",
       "      <td>2017-01-01 01:00:00</td>\n",
       "      <td>1.223917</td>\n",
       "      <td>0.0</td>\n",
       "    </tr>\n",
       "    <tr>\n",
       "      <th>2</th>\n",
       "      <td>26</td>\n",
       "      <td>2017-01-01 02:00:00</td>\n",
       "      <td>0.668367</td>\n",
       "      <td>0.0</td>\n",
       "    </tr>\n",
       "    <tr>\n",
       "      <th>3</th>\n",
       "      <td>26</td>\n",
       "      <td>2017-01-01 03:00:00</td>\n",
       "      <td>0.478667</td>\n",
       "      <td>0.0</td>\n",
       "    </tr>\n",
       "    <tr>\n",
       "      <th>4</th>\n",
       "      <td>26</td>\n",
       "      <td>2017-01-01 04:00:00</td>\n",
       "      <td>0.416283</td>\n",
       "      <td>0.0</td>\n",
       "    </tr>\n",
       "  </tbody>\n",
       "</table>\n",
       "</div>"
      ],
      "text/plain": [
       "   dataid            localhour       use  gen_per_kW\n",
       "0      26  2017-01-01 00:00:00  1.788817         0.0\n",
       "1      26  2017-01-01 01:00:00  1.223917         0.0\n",
       "2      26  2017-01-01 02:00:00  0.668367         0.0\n",
       "3      26  2017-01-01 03:00:00  0.478667         0.0\n",
       "4      26  2017-01-01 04:00:00  0.416283         0.0"
      ]
     },
     "execution_count": 2,
     "metadata": {},
     "output_type": "execute_result"
    }
   ],
   "source": [
    "df = pd.read_csv('data/full_randomized_2017_hourly_normalized_v2.csv')\n",
    "df.head()"
   ]
  },
  {
   "cell_type": "code",
   "execution_count": 3,
   "metadata": {},
   "outputs": [],
   "source": [
    "dataids = obtain_dataid_2017(df)\n",
    "dataids_array = np.asarray(dataids)\n",
    "validdata = len(dataids)\n",
    "T = len(df[df.dataid==26].use.values)"
   ]
  },
  {
   "cell_type": "code",
   "execution_count": 4,
   "metadata": {},
   "outputs": [],
   "source": [
    "gen_kw = f_gen_per_kw(df)\n",
    "load_kw = f_load_kw(df)"
   ]
  },
  {
   "cell_type": "markdown",
   "metadata": {},
   "source": [
    "1 m$^2$ is 1550 in$^2$\n",
    "\n",
    "Typical size of solar panel: is 65 in for 39 in = 2535 in$^2$ = 1.6354 m$^2$.\n",
    "\n",
    "The rated power of a solar panel is typically between 250 to 350W.\n",
    "\n",
    "To convert we use: gen_per_kw by 0.3 / 1.6354 to get gen_per_m$^2$."
   ]
  },
  {
   "cell_type": "code",
   "execution_count": 5,
   "metadata": {},
   "outputs": [],
   "source": [
    "gen_per_m2 = gen_kw*0.3/1.6354"
   ]
  },
  {
   "cell_type": "code",
   "execution_count": 6,
   "metadata": {},
   "outputs": [
    {
     "name": "stdout",
     "output_type": "stream",
     "text": [
      "Cost of PV per time step: 0.004695025492240356\n"
     ]
    }
   ],
   "source": [
    "#Investment per m2 is 512.2 $/m2.\n",
    "#Using an anualized cost with discount rate r=5%, we obtain\n",
    "CostPVperM2 = 512.2\n",
    "r = 0.05\n",
    "years = 20\n",
    "annuity = CostPVperM2*r/(1-(1+r)**(-years)) #Obtain Annuity \n",
    "pi_s = annuity/T #Obtain cost per time step\n",
    "print('Cost of PV per time step: ' + str(pi_s))"
   ]
  },
  {
   "cell_type": "code",
   "execution_count": 7,
   "metadata": {},
   "outputs": [],
   "source": [
    "firms = validdata #Number of firms\n",
    "gamma = 1 #Factor of NM price\n",
    "pi_r = 0.18   #Retail Price at 18 cents per kWh.\n",
    "pi_nm = gamma*pi_r  #Net Metering Price\n",
    "a_cap_firms = f_cap_firms(gen_per_m2, load_kw) #Cap for firms to not be net producers\n",
    "a_max_firms = 0.2*a_cap_firms"
   ]
  },
  {
   "cell_type": "code",
   "execution_count": 11,
   "metadata": {},
   "outputs": [],
   "source": [
    "pv_changes = []\n",
    "gamma = np.linspace(0,1,21)\n",
    "for g in gamma:\n",
    "    pi_nm = g*pi_r\n",
    "    %run -i 'src/Case_01.py'\n",
    "    pv_changes.append(aux)\n",
    "    clear_output()"
   ]
  },
  {
   "cell_type": "code",
   "execution_count": 8,
   "metadata": {},
   "outputs": [],
   "source": [
    "gamma = np.linspace(0,1,21)"
   ]
  },
  {
   "cell_type": "code",
   "execution_count": 12,
   "metadata": {},
   "outputs": [
    {
     "name": "stdout",
     "output_type": "stream",
     "text": [
      "[1.0593219081332161, 1.0315641915037417, 1.0024351906111129, 0.9698924657036252, 0.9350390289445311, 0.8987029117955894, 0.8593924626548064, 0.8186130301240024, 0.7747903624227751, 0.7267145228621336, 0.6759769283964651, 0.6213546043226311, 0.5637410220699046, 0.496885576479962, 0.4257993862328348, 0.34744581133312286, 0.26839341714819137, 0.19236603434144148, 0.11984696768468528, 0.06049558634971119, 0.0]\n"
     ]
    }
   ],
   "source": [
    "print(pv_changes)"
   ]
  },
  {
   "cell_type": "code",
   "execution_count": 13,
   "metadata": {},
   "outputs": [],
   "source": [
    "pv_changes_case01 = [1.0593219081332161, 1.0315641915037417, 1.0024351906111129, 0.9698924657036252, 0.9350390289445311, 0.8987029117955894, 0.8593924626548064, 0.8186130301240024, 0.7747903624227751, 0.7267145228621336, 0.6759769283964651, 0.6213546043226311, 0.5637410220699046, 0.496885576479962, 0.4257993862328348, 0.34744581133312286, 0.26839341714819137, 0.19236603434144148, 0.11984696768468528, 0.06049558634971119, 0.0]"
   ]
  },
  {
   "cell_type": "code",
   "execution_count": 14,
   "metadata": {},
   "outputs": [
    {
     "data": {
      "text/plain": [
       "[<matplotlib.lines.Line2D at 0xb1fdf7518>]"
      ]
     },
     "execution_count": 14,
     "metadata": {},
     "output_type": "execute_result"
    },
    {
     "data": {
      "image/png": "[encoded data removed]",
      "text/plain": [
       "<Figure size 432x288 with 1 Axes>"
      ]
     },
     "metadata": {},
     "output_type": "display_data"
    }
   ],
   "source": [
    "plt.plot(gamma, pv_changes)"
   ]
  },
  {
   "cell_type": "code",
   "execution_count": null,
   "metadata": {},
   "outputs": [],
   "source": [
    "investment_standalone = solve_standalone(gen_per_m2, load_kw, dataids, a_max_firms, pi_s, pi_r, pi_nm)"
   ]
  },
  {
   "cell_type": "code",
   "execution_count": null,
   "metadata": {},
   "outputs": [],
   "source": [
    "print('\\n')\n",
    "print('Investment decisions:')\n",
    "print(investment_standalone) #Print investment decisions\n",
    "print('\\n')\n",
    "print('Percentage of investment per firm (with respect to max_cap)')\n",
    "print(1-(a_max_firms - investment_standalone)/a_max_firms) #Print percentage of investment of available max cap\n",
    "print('\\n Total Investment of PV in standalone case is '+ str(sum(investment_standalone)) + ' in m2 \\n')"
   ]
  },
  {
   "cell_type": "code",
   "execution_count": null,
   "metadata": {},
   "outputs": [],
   "source": [
    "soluc_sharing = solve_sharing_collective(gen_per_m2, load_kw, dataids_array, a_max_firms, pi_s, pi_r)\n",
    "sol_sharing = firms_investment_sharing(soluc_sharing, a_max_firms, firms)"
   ]
  },
  {
   "cell_type": "code",
   "execution_count": null,
   "metadata": {},
   "outputs": [],
   "source": [
    "def f_collective_load(load_kw):\n",
    "    return np.sum(load_kw, axis=1)\n",
    "\n",
    "def f_collective_gen(gen_per_m2, area_invested):\n",
    "    aux = gen_per_m2 * area_invested\n",
    "    return np.sum(aux, axis=1)\n",
    "\n",
    "def f_hours_collective_net_load_negative(collective_load, collective_gen):\n",
    "    net_load = collective_load - collective_gen\n",
    "    aux = net_load < 0\n",
    "    return np.sum(aux)"
   ]
  },
  {
   "cell_type": "code",
   "execution_count": null,
   "metadata": {},
   "outputs": [],
   "source": [
    "coll_load = f_collective_load(load_kw)\n",
    "coll_gen = f_collective_gen(gen_per_m2, sol_sharing)\n",
    "hours_neg = f_hours_collective_net_load_negative(coll_load, coll_gen)"
   ]
  },
  {
   "cell_type": "code",
   "execution_count": null,
   "metadata": {},
   "outputs": [],
   "source": [
    "(np.sum(sol_sharing) - np.sum(investment_standalone))/np.sum(investment_standalone)"
   ]
  },
  {
   "cell_type": "code",
   "execution_count": null,
   "metadata": {},
   "outputs": [],
   "source": []
  },
  {
   "cell_type": "code",
   "execution_count": null,
   "metadata": {},
   "outputs": [],
   "source": [
    "np.sum(aux, axis=1).shape"
   ]
  },
  {
   "cell_type": "code",
   "execution_count": null,
   "metadata": {},
   "outputs": [],
   "source": [
    "df2 = pd.read_csv('data/LMP_2017_data.csv')\n",
    "pi_g = f_lmp_prices(df2) #Data is in $/MWh\n",
    "pi_g = pi_g/1000 # convert to $/kWh"
   ]
  },
  {
   "cell_type": "code",
   "execution_count": null,
   "metadata": {},
   "outputs": [],
   "source": [
    "pi_g2 = pi_g\n",
    "soluc_wholesale = solve_wholesale_aggregator(gen_per_m2, load_kw, a_max_firms, pi_s, pi_g2)\n",
    "print(soluc_wholesale)"
   ]
  },
  {
   "cell_type": "code",
   "execution_count": null,
   "metadata": {},
   "outputs": [],
   "source": [
    "avg_profit_nopv = utility_profit_no_investment(load_kw, pi_r)"
   ]
  },
  {
   "cell_type": "code",
   "execution_count": null,
   "metadata": {},
   "outputs": [],
   "source": [
    "avg_profit_standalone = utility_profit_standalone(gen_per_m2, load_kw, investment_standalone, pi_r, pi_nm)"
   ]
  },
  {
   "cell_type": "code",
   "execution_count": null,
   "metadata": {},
   "outputs": [],
   "source": [
    "avg_profit_sharing = utility_profit_sharing(gen_per_m2, load_kw, sol_sharing, pi_r)"
   ]
  },
  {
   "cell_type": "code",
   "execution_count": null,
   "metadata": {},
   "outputs": [],
   "source": []
  },
  {
   "cell_type": "code",
   "execution_count": null,
   "metadata": {},
   "outputs": [],
   "source": []
  },
  {
   "cell_type": "code",
   "execution_count": null,
   "metadata": {},
   "outputs": [],
   "source": [
    "print(annuity)"
   ]
  },
  {
   "cell_type": "code",
   "execution_count": null,
   "metadata": {},
   "outputs": [],
   "source": [
    "df2.head(10)"
   ]
  },
  {
   "cell_type": "code",
   "execution_count": null,
   "metadata": {},
   "outputs": [],
   "source": [
    "df3 = df2.groupby(['OPR_HR']).mean()\n",
    "print(df3)"
   ]
  },
  {
   "cell_type": "code",
   "execution_count": null,
   "metadata": {},
   "outputs": [],
   "source": [
    "df4 = df2.mean()"
   ]
  },
  {
   "cell_type": "code",
   "execution_count": null,
   "metadata": {},
   "outputs": [],
   "source": [
    "print(df4)"
   ]
  },
  {
   "cell_type": "code",
   "execution_count": null,
   "metadata": {},
   "outputs": [],
   "source": []
  }
 ],
 "metadata": {
  "kernelspec": {
   "display_name": "Python 3",
   "language": "python",
   "name": "python3"
  },
  "language_info": {
   "codemirror_mode": {
    "name": "ipython",
    "version": 3
   },
   "file_extension": ".py",
   "mimetype": "text/x-python",
   "name": "python",
   "nbconvert_exporter": "python",
   "pygments_lexer": "ipython3",
   "version": "3.6.5"
  }
 },
 "nbformat": 4,
 "nbformat_minor": 2
}
