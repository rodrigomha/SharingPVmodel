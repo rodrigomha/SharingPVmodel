{
 "cells": [
  {
   "cell_type": "markdown",
   "metadata": {},
   "source": [
    "## Requirements:\n",
    "1) Use a conda distribution with numpy, scipy, matplotlib and pandas. If not, install with pip. \n",
    "\n",
    "2) Install cvxpy using: \n",
    "\n",
    "    pip install cvxpy\n",
    "    \n",
    "3) You can test the installation with nose:\n",
    "    \n",
    "    pip install nose\n",
    "    \n",
    "    nosetests cvxpy"
   ]
  },
  {
   "cell_type": "code",
   "execution_count": null,
   "metadata": {},
   "outputs": [],
   "source": [
    "%run -i 'src/SPV.py'\n",
    "from src.data_functions import *\n",
    "from src.solution_algorithms import *"
   ]
  },
  {
   "cell_type": "markdown",
   "metadata": {},
   "source": [
    "## Load Generation, Demand and Prices Data\n",
    "Download the csv files from:\n",
    "\n",
    "https://www.dropbox.com/s/o0qcyalnnhbeqsu/full_randomized_2017_hourly_normalized_v2.csv?dl=0\n",
    "\n",
    "https://www.dropbox.com/s/1qkkg6s4yndnohm/LMP_2017_data.csv?dl=0\n",
    "\n",
    "https://www.dropbox.com/s/dueo9r91iny93e6/LMP_2017_hourly_ERCOT.csv?dl=0\n",
    "\n",
    "Add the csv files to data folder"
   ]
  },
  {
   "cell_type": "code",
   "execution_count": null,
   "metadata": {},
   "outputs": [],
   "source": [
    "df = pd.read_csv('data/full_randomized_2017_hourly_normalized_v2.csv') #Load demand and solar generation per kW dataframe\n",
    "df2 = pd.read_csv('data/LMP_2017_data.csv') #Load wholesale prices data for CAISO\n",
    "df3 = pd.read_csv('data/LMP_2017_hourly_ERCOT.csv') #Load wholesale prices data for ERCOT"
   ]
  },
  {
   "cell_type": "markdown",
   "metadata": {},
   "source": [
    "## Obtain lists, matrices and arrays from dataframes"
   ]
  },
  {
   "cell_type": "code",
   "execution_count": null,
   "metadata": {},
   "outputs": [],
   "source": [
    "dataids = obtain_dataid_2017(df) #list of dataids of firms\n",
    "dataids_array = np.asarray(dataids) #numpy array of dataids \n",
    "validdata = len(dataids) #Total of firms\n",
    "T = len(df[df.dataid==26].use.values) #Total of time slots\n",
    "localtime_data = df[df.dataid==26].localhour #Hour data of time slots"
   ]
  },
  {
   "cell_type": "code",
   "execution_count": null,
   "metadata": {},
   "outputs": [],
   "source": [
    "gen_kw = f_gen_per_kw(df) #Matrix of normalized solar generation: Rows are timeslots and columns are firms\n",
    "load_kw = f_load_kw(df) #Matrix of load: Rows are timeslots and columns are firms"
   ]
  },
  {
   "cell_type": "markdown",
   "metadata": {},
   "source": [
    "1 m$^2$ is 1550 in$^2$\n",
    "\n",
    "Typical size of solar panel: is 65 in for 39 in = 2535 in$^2$ = 1.6354 m$^2$.\n",
    "\n",
    "The rated power of a solar panel is typically between 250 to 350W.\n",
    "\n",
    "To convert we use: gen_per_kw by 0.3 / 1.6354 to get gen_per_m$^2$."
   ]
  },
  {
   "cell_type": "code",
   "execution_count": null,
   "metadata": {},
   "outputs": [],
   "source": [
    "gen_per_m2 = gen_kw*0.3/1.6354"
   ]
  },
  {
   "cell_type": "code",
   "execution_count": null,
   "metadata": {},
   "outputs": [],
   "source": [
    "#Investment per m2 is 512.2 $/m2.\n",
    "#Using an anualized cost with discount rate r=5%, we obtain\n",
    "CostPVperM2 = 512.2\n",
    "r = 0.05\n",
    "years = 20\n",
    "annuity = CostPVperM2*r/(1-(1+r)**(-years)) #Obtain Annuity \n",
    "pi_s = annuity/T #Obtain cost per time step\n",
    "print('Cost of PV per time step: ' + str(pi_s) + ' in $/m2')"
   ]
  },
  {
   "cell_type": "code",
   "execution_count": null,
   "metadata": {},
   "outputs": [],
   "source": [
    "firms = validdata #Number of firms\n",
    "gamma = 1 #Factor of NM price\n",
    "pi_r = 0.18   #Retail Price at 18 cents per kWh.\n",
    "pi_nm = gamma*pi_r  #Net Metering Price\n",
    "a_cap_firms = f_cap_firms(gen_per_m2, load_kw) #Cap for firms to not be net producers"
   ]
  },
  {
   "cell_type": "code",
   "execution_count": null,
   "metadata": {},
   "outputs": [],
   "source": [
    "pi_g = f_lmp_prices(df2) #Obtain wholesale market prices for CAISO: Data is in $/MWh\n",
    "pi_g = pi_g/1000 # convert to $/kWh\n",
    "pi_g_ercot = df3.hb_busavg.values #Obtain wholesale market prices for ERCOT: Data is in $/MWh\n",
    "pi_g_ercot = pi_g_ercot/1000 # convert to $/kWh"
   ]
  },
  {
   "cell_type": "code",
   "execution_count": null,
   "metadata": {},
   "outputs": [],
   "source": [
    "print(np.mean(pi_g))\n",
    "print(np.mean(pi_g_ercot))"
   ]
  },
  {
   "cell_type": "markdown",
   "metadata": {},
   "source": [
    "## Run Case 1: Limited maximum panel area"
   ]
  },
  {
   "cell_type": "code",
   "execution_count": null,
   "metadata": {},
   "outputs": [],
   "source": [
    "a_max_firms = 0.2*a_cap_firms\n",
    "pv_changes = []\n",
    "#gamma = np.linspace(0,1,21)\n",
    "gamma = [0.9]\n",
    "\n",
    "#Run the sharing case (that is not affected by gamma)\n",
    "soluc_sharing = solve_sharing_collective(gen_per_m2, load_kw, dataids_array, a_max_firms, pi_s, pi_r) #Obtain the set of firms that invest\n",
    "sol_sharing = firms_investment_sharing(soluc_sharing, a_max_firms, firms) #Obtain the investment decision of all firms\n",
    "clear_output() #Comment this line to check the intermediate steps of the algorithm\n",
    "\n",
    "for g in gamma:\n",
    "    pi_nm = g*pi_r\n",
    "    %run -i 'src/Case_01.py'\n",
    "    pv_changes.append(aux)\n",
    "    clear_output()"
   ]
  },
  {
   "cell_type": "code",
   "execution_count": null,
   "metadata": {},
   "outputs": [],
   "source": [
    "#Plot pv changes between standalone and sharing case\n",
    "plt.plot(gamma, pv_changes)"
   ]
  },
  {
   "cell_type": "code",
   "execution_count": null,
   "metadata": {},
   "outputs": [],
   "source": [
    "# pi_nm = 0.9*pi_r\n",
    "# investment_standalone = solve_standalone(gen_per_m2, load_kw, dataids, a_max_firms, pi_s, pi_r, pi_nm) #Solve a particular case you are interested"
   ]
  },
  {
   "cell_type": "code",
   "execution_count": null,
   "metadata": {},
   "outputs": [],
   "source": [
    "print('\\n')\n",
    "print('Investment decisions:')\n",
    "print(investment_standalone) #Print investment decisions\n",
    "print('\\n')\n",
    "print('Percentage of investment per firm (with respect to max_cap)')\n",
    "print(1-(a_max_firms - investment_standalone)/a_max_firms) #Print percentage of investment of available max cap\n",
    "print('\\n Total Investment of PV in standalone case is '+ str(sum(investment_standalone)) + ' in m2 \\n')"
   ]
  },
  {
   "cell_type": "markdown",
   "metadata": {},
   "source": [
    "## Run Case 2: Effect of annual cap"
   ]
  },
  {
   "cell_type": "code",
   "execution_count": null,
   "metadata": {},
   "outputs": [],
   "source": [
    "a_max_firms = 1.5*a_cap_firms\n",
    "#gamma = np.linspace(0,1,21)\n",
    "gamma = [0.9]"
   ]
  },
  {
   "cell_type": "code",
   "execution_count": null,
   "metadata": {},
   "outputs": [],
   "source": [
    "## Run Sharing model\n",
    "soluc_sharing = solve_sharing_collective(gen_per_m2, load_kw, dataids_array, a_max_firms, pi_s, pi_r) #Obtain the set of firms that invest\n",
    "sol_sharing = firms_investment_sharing(soluc_sharing, a_max_firms, firms) #Obtain the investment decision of all firms\n",
    "clear_output()"
   ]
  },
  {
   "cell_type": "code",
   "execution_count": null,
   "metadata": {},
   "outputs": [],
   "source": [
    "# Run standalone models for each gamma\n",
    "for g in gamma:\n",
    "    pi_nm = g*pi_r\n",
    "    investment_standalone = solve_standalone(gen_per_m2, load_kw, dataids, a_cap_firms, pi_s, pi_r, pi_nm)\n",
    "    clear_output()"
   ]
  },
  {
   "cell_type": "code",
   "execution_count": null,
   "metadata": {},
   "outputs": [],
   "source": [
    "print(np.sum(sol_sharing)) #Print total PV investment in Sharing Model\n",
    "print(np.sum(investment_standalone)) #Print total PV investment in Standalone Model\n",
    "print((-np.sum(investment_standalone)+np.sum(sol_sharing))/np.sum(sol_sharing) ) #Print increase (or decrease) of PV investment between models"
   ]
  },
  {
   "cell_type": "code",
   "execution_count": null,
   "metadata": {},
   "outputs": [],
   "source": [
    "total_gen_per_m2 = np.sum(gen_per_m2, axis=0) #Obtain sum of gen per m2, per firm\n",
    "sorted_dataids_maxgen = np.argsort(-total_gen_per_m2) #Sort firms from high total irradiance to low irradiance\n",
    "#print(sol_sharing[sorted_dataids_maxgen])\n",
    "#print('/n')\n",
    "#print(investment_standalone[sorted_dataids_maxgen])\n",
    "sharing_cumsum = np.cumsum(sol_sharing[sorted_dataids_maxgen]) #Compute cumulative sum of PV investment for sorted firms in sharing model\n",
    "standalone_cumsum = np.cumsum(investment_standalone[sorted_dataids_maxgen]) #Compute cumuliative sum of PV investment for sorted firms in standalone model"
   ]
  },
  {
   "cell_type": "code",
   "execution_count": null,
   "metadata": {},
   "outputs": [],
   "source": [
    "plt.plot(sharing_cumsum)"
   ]
  },
  {
   "cell_type": "code",
   "execution_count": null,
   "metadata": {},
   "outputs": [],
   "source": [
    "plt.plot(standalone_cumsum)"
   ]
  },
  {
   "cell_type": "code",
   "execution_count": null,
   "metadata": {},
   "outputs": [],
   "source": [
    "# Save data if you are interested to plot in other software\n",
    "np.savetxt(\"sharing_cumsum.csv\", sharing_cumsum, delimiter=\",\")\n",
    "np.savetxt(\"standalone_cumsum.csv\", standalone_cumsum, delimiter=\",\")"
   ]
  },
  {
   "cell_type": "markdown",
   "metadata": {},
   "source": [
    "## Run Case 3: Effect of demand charge in wholesale market prices\n",
    "Requirements: Gurobi solver"
   ]
  },
  {
   "cell_type": "code",
   "execution_count": null,
   "metadata": {},
   "outputs": [],
   "source": [
    "a_max_firms = 2*a_cap_firms\n",
    "pi_s_array = np.linspace(0.00, 0.25, 50)*pi_s\n",
    "#pi_s_array = np.linspace(0.08, 0.2, 30)*pi_s\n",
    "#pi_s_array = [0.0]"
   ]
  },
  {
   "cell_type": "code",
   "execution_count": null,
   "metadata": {},
   "outputs": [],
   "source": [
    "pi_g2 = pi_g\n",
    "#pi_g2 = pi_g_ercot\n",
    "#pi_s_array = np.asarray([0.15*pi_s])\n",
    "sol_wholesale_list_dcharge = []\n",
    "demand_charge = 10 #in $/kWp\n",
    "# Solve with demand charge for different costs of solar\n",
    "for pi_s2 in pi_s_array:\n",
    "    soluc_wholesale = solve_wholesale_aggregator_demandcharge(gen_per_m2, load_kw, a_max_firms, pi_s2, pi_g2, demand_charge)\n",
    "    sol_wholesale_list_dcharge.append(np.sum(soluc_wholesale))\n",
    "    clear_output()\n",
    "levelized_cost_array = (1-(1+r)**(-years))/r * pi_s_array*T #Obtain overnight cost of PV\n",
    "plt.plot(levelized_cost_array, sol_wholesale_list_dcharge)"
   ]
  },
  {
   "cell_type": "code",
   "execution_count": null,
   "metadata": {},
   "outputs": [],
   "source": [
    "np.asarray(sol_wholesale_list)"
   ]
  },
  {
   "cell_type": "code",
   "execution_count": null,
   "metadata": {},
   "outputs": [],
   "source": [
    "#pi_g2 = pi_g\n",
    "pi_g2 = pi_g_ercot\n",
    "sol_wholesale_list = []\n",
    "# Solve without demand charge for different costs of solar\n",
    "for pi_s2 in pi_s_array:\n",
    "    soluc_wholesale_energy = solve_wholesale_aggregator(gen_per_m2, load_kw, a_max_firms, pi_s2, pi_g2)\n",
    "    sol_wholesale_list.append(np.sum(soluc_wholesale_energy))\n",
    "    clear_output()\n",
    "levelized_cost_array = (1-(1+r)**(-years))/r * pi_s_array*T #Obtain overnight cost of PV\n",
    "plt.plot(levelized_cost_array, sol_wholesale_list)"
   ]
  },
  {
   "cell_type": "code",
   "execution_count": null,
   "metadata": {},
   "outputs": [],
   "source": [
    "pi_g2 = pi_g\n",
    "#pi_g2 = pi_g_ercot\n",
    "sol_wholesale_list = []\n",
    "# Solve without demand charge for different costs of solar\n",
    "for pi_s2 in pi_s_array:\n",
    "    soluc_wholesale_energy = solve_wholesale_aggregator(gen_per_m2, load_kw, a_max_firms, pi_s2, pi_g2)\n",
    "    sol_wholesale_list.append(np.sum(soluc_wholesale_energy))\n",
    "    clear_output()\n",
    "levelized_cost_array = (1-(1+r)**(-years))/r * pi_s_array*T #Obtain overnight cost of PV\n",
    "plt.plot(levelized_cost_array, sol_wholesale_list)"
   ]
  },
  {
   "cell_type": "code",
   "execution_count": null,
   "metadata": {},
   "outputs": [],
   "source": [
    "np.mean(pi_g)"
   ]
  },
  {
   "cell_type": "code",
   "execution_count": null,
   "metadata": {},
   "outputs": [],
   "source": [
    "e_cost = wholesale_energy_costs(gen_per_m2,  load_kw, soluc_wholesale, pi_g) #Print energy costs for the collective with the solution of investment\n",
    "print(e_cost)\n",
    "e_cost = wholesale_energy_costs(gen_per_m2,  load_kw, 0, pi_g) #Print energy costs for the collective without investment in PV\n",
    "print(e_cost)"
   ]
  },
  {
   "cell_type": "code",
   "execution_count": null,
   "metadata": {},
   "outputs": [],
   "source": [
    "d_cost = wholesale_demand_charge_costs(gen_per_m2, load_kw, soluc_wholesale, 10) #Print demand charge for the collective with the solution of investment\n",
    "print(np.sum(d_cost))\n",
    "zero_sol = np.zeros(validdata)\n",
    "d_cost = wholesale_demand_charge_costs(gen_per_m2, load_kw, zero_sol, 10) #Print demand charge for the collective without investment in PV\n",
    "print(np.sum(d_cost))"
   ]
  },
  {
   "cell_type": "code",
   "execution_count": null,
   "metadata": {},
   "outputs": [],
   "source": [
    "tot_d_cost = np.sum(d_cost)\n",
    "e_proportion = e_cost/(tot_d_cost+e_cost)*100\n",
    "print(e_proportion) #Print proportion of energy costs with respect to total costs without PV investment"
   ]
  }
 ],
 "metadata": {
  "kernelspec": {
   "display_name": "Python 3",
   "language": "python",
   "name": "python3"
  },
  "language_info": {
   "codemirror_mode": {
    "name": "ipython",
    "version": 3
   },
   "file_extension": ".py",
   "mimetype": "text/x-python",
   "name": "python",
   "nbconvert_exporter": "python",
   "pygments_lexer": "ipython3",
   "version": "3.6.5"
  }
 },
 "nbformat": 4,
 "nbformat_minor": 2
}
